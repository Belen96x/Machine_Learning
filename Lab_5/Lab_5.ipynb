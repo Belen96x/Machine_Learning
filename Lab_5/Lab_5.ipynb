{
  "nbformat": 4,
  "nbformat_minor": 0,
  "metadata": {
    "colab": {
      "provenance": []
    },
    "kernelspec": {
      "name": "python3",
      "display_name": "Python 3"
    },
    "language_info": {
      "name": "python"
    },
    "widgets": {
      "application/vnd.jupyter.widget-state+json": {
        "138bb7a8863a4f2b8eb07337145f870f": {
          "model_module": "@jupyter-widgets/controls",
          "model_name": "HBoxModel",
          "model_module_version": "1.5.0",
          "state": {
            "_dom_classes": [],
            "_model_module": "@jupyter-widgets/controls",
            "_model_module_version": "1.5.0",
            "_model_name": "HBoxModel",
            "_view_count": null,
            "_view_module": "@jupyter-widgets/controls",
            "_view_module_version": "1.5.0",
            "_view_name": "HBoxView",
            "box_style": "",
            "children": [
              "IPY_MODEL_9ec30b6c6c9f4dea9acb23daa3bb3302",
              "IPY_MODEL_ba6306c0688d42838d141c3849b6025d",
              "IPY_MODEL_7e3592988af24c7b9cba7f4a28ad093f"
            ],
            "layout": "IPY_MODEL_02fbc3f3f83e47fb9bb61601b8e8f448"
          }
        },
        "9ec30b6c6c9f4dea9acb23daa3bb3302": {
          "model_module": "@jupyter-widgets/controls",
          "model_name": "HTMLModel",
          "model_module_version": "1.5.0",
          "state": {
            "_dom_classes": [],
            "_model_module": "@jupyter-widgets/controls",
            "_model_module_version": "1.5.0",
            "_model_name": "HTMLModel",
            "_view_count": null,
            "_view_module": "@jupyter-widgets/controls",
            "_view_module_version": "1.5.0",
            "_view_name": "HTMLView",
            "description": "",
            "description_tooltip": null,
            "layout": "IPY_MODEL_530043c9659540c685a99ab334fc08b1",
            "placeholder": "​",
            "style": "IPY_MODEL_3aa583979cb54ecba086d18b09c4ca4d",
            "value": "100%"
          }
        },
        "ba6306c0688d42838d141c3849b6025d": {
          "model_module": "@jupyter-widgets/controls",
          "model_name": "FloatProgressModel",
          "model_module_version": "1.5.0",
          "state": {
            "_dom_classes": [],
            "_model_module": "@jupyter-widgets/controls",
            "_model_module_version": "1.5.0",
            "_model_name": "FloatProgressModel",
            "_view_count": null,
            "_view_module": "@jupyter-widgets/controls",
            "_view_module_version": "1.5.0",
            "_view_name": "ProgressView",
            "bar_style": "success",
            "description": "",
            "description_tooltip": null,
            "layout": "IPY_MODEL_989fd65296424ce8b95e3f89b8d66f1c",
            "max": 80,
            "min": 0,
            "orientation": "horizontal",
            "style": "IPY_MODEL_f24c629f5bd44e02bfa2f1af1b38c6e8",
            "value": 80
          }
        },
        "7e3592988af24c7b9cba7f4a28ad093f": {
          "model_module": "@jupyter-widgets/controls",
          "model_name": "HTMLModel",
          "model_module_version": "1.5.0",
          "state": {
            "_dom_classes": [],
            "_model_module": "@jupyter-widgets/controls",
            "_model_module_version": "1.5.0",
            "_model_name": "HTMLModel",
            "_view_count": null,
            "_view_module": "@jupyter-widgets/controls",
            "_view_module_version": "1.5.0",
            "_view_name": "HTMLView",
            "description": "",
            "description_tooltip": null,
            "layout": "IPY_MODEL_586f8b4cad55484fba9a548f4a547ac7",
            "placeholder": "​",
            "style": "IPY_MODEL_630bed13c6a3463281ef8355479acf9d",
            "value": " 80/80 [00:28&lt;00:00,  3.50it/s]"
          }
        },
        "02fbc3f3f83e47fb9bb61601b8e8f448": {
          "model_module": "@jupyter-widgets/base",
          "model_name": "LayoutModel",
          "model_module_version": "1.2.0",
          "state": {
            "_model_module": "@jupyter-widgets/base",
            "_model_module_version": "1.2.0",
            "_model_name": "LayoutModel",
            "_view_count": null,
            "_view_module": "@jupyter-widgets/base",
            "_view_module_version": "1.2.0",
            "_view_name": "LayoutView",
            "align_content": null,
            "align_items": null,
            "align_self": null,
            "border": null,
            "bottom": null,
            "display": null,
            "flex": null,
            "flex_flow": null,
            "grid_area": null,
            "grid_auto_columns": null,
            "grid_auto_flow": null,
            "grid_auto_rows": null,
            "grid_column": null,
            "grid_gap": null,
            "grid_row": null,
            "grid_template_areas": null,
            "grid_template_columns": null,
            "grid_template_rows": null,
            "height": null,
            "justify_content": null,
            "justify_items": null,
            "left": null,
            "margin": null,
            "max_height": null,
            "max_width": null,
            "min_height": null,
            "min_width": null,
            "object_fit": null,
            "object_position": null,
            "order": null,
            "overflow": null,
            "overflow_x": null,
            "overflow_y": null,
            "padding": null,
            "right": null,
            "top": null,
            "visibility": null,
            "width": null
          }
        },
        "530043c9659540c685a99ab334fc08b1": {
          "model_module": "@jupyter-widgets/base",
          "model_name": "LayoutModel",
          "model_module_version": "1.2.0",
          "state": {
            "_model_module": "@jupyter-widgets/base",
            "_model_module_version": "1.2.0",
            "_model_name": "LayoutModel",
            "_view_count": null,
            "_view_module": "@jupyter-widgets/base",
            "_view_module_version": "1.2.0",
            "_view_name": "LayoutView",
            "align_content": null,
            "align_items": null,
            "align_self": null,
            "border": null,
            "bottom": null,
            "display": null,
            "flex": null,
            "flex_flow": null,
            "grid_area": null,
            "grid_auto_columns": null,
            "grid_auto_flow": null,
            "grid_auto_rows": null,
            "grid_column": null,
            "grid_gap": null,
            "grid_row": null,
            "grid_template_areas": null,
            "grid_template_columns": null,
            "grid_template_rows": null,
            "height": null,
            "justify_content": null,
            "justify_items": null,
            "left": null,
            "margin": null,
            "max_height": null,
            "max_width": null,
            "min_height": null,
            "min_width": null,
            "object_fit": null,
            "object_position": null,
            "order": null,
            "overflow": null,
            "overflow_x": null,
            "overflow_y": null,
            "padding": null,
            "right": null,
            "top": null,
            "visibility": null,
            "width": null
          }
        },
        "3aa583979cb54ecba086d18b09c4ca4d": {
          "model_module": "@jupyter-widgets/controls",
          "model_name": "DescriptionStyleModel",
          "model_module_version": "1.5.0",
          "state": {
            "_model_module": "@jupyter-widgets/controls",
            "_model_module_version": "1.5.0",
            "_model_name": "DescriptionStyleModel",
            "_view_count": null,
            "_view_module": "@jupyter-widgets/base",
            "_view_module_version": "1.2.0",
            "_view_name": "StyleView",
            "description_width": ""
          }
        },
        "989fd65296424ce8b95e3f89b8d66f1c": {
          "model_module": "@jupyter-widgets/base",
          "model_name": "LayoutModel",
          "model_module_version": "1.2.0",
          "state": {
            "_model_module": "@jupyter-widgets/base",
            "_model_module_version": "1.2.0",
            "_model_name": "LayoutModel",
            "_view_count": null,
            "_view_module": "@jupyter-widgets/base",
            "_view_module_version": "1.2.0",
            "_view_name": "LayoutView",
            "align_content": null,
            "align_items": null,
            "align_self": null,
            "border": null,
            "bottom": null,
            "display": null,
            "flex": null,
            "flex_flow": null,
            "grid_area": null,
            "grid_auto_columns": null,
            "grid_auto_flow": null,
            "grid_auto_rows": null,
            "grid_column": null,
            "grid_gap": null,
            "grid_row": null,
            "grid_template_areas": null,
            "grid_template_columns": null,
            "grid_template_rows": null,
            "height": null,
            "justify_content": null,
            "justify_items": null,
            "left": null,
            "margin": null,
            "max_height": null,
            "max_width": null,
            "min_height": null,
            "min_width": null,
            "object_fit": null,
            "object_position": null,
            "order": null,
            "overflow": null,
            "overflow_x": null,
            "overflow_y": null,
            "padding": null,
            "right": null,
            "top": null,
            "visibility": null,
            "width": null
          }
        },
        "f24c629f5bd44e02bfa2f1af1b38c6e8": {
          "model_module": "@jupyter-widgets/controls",
          "model_name": "ProgressStyleModel",
          "model_module_version": "1.5.0",
          "state": {
            "_model_module": "@jupyter-widgets/controls",
            "_model_module_version": "1.5.0",
            "_model_name": "ProgressStyleModel",
            "_view_count": null,
            "_view_module": "@jupyter-widgets/base",
            "_view_module_version": "1.2.0",
            "_view_name": "StyleView",
            "bar_color": null,
            "description_width": ""
          }
        },
        "586f8b4cad55484fba9a548f4a547ac7": {
          "model_module": "@jupyter-widgets/base",
          "model_name": "LayoutModel",
          "model_module_version": "1.2.0",
          "state": {
            "_model_module": "@jupyter-widgets/base",
            "_model_module_version": "1.2.0",
            "_model_name": "LayoutModel",
            "_view_count": null,
            "_view_module": "@jupyter-widgets/base",
            "_view_module_version": "1.2.0",
            "_view_name": "LayoutView",
            "align_content": null,
            "align_items": null,
            "align_self": null,
            "border": null,
            "bottom": null,
            "display": null,
            "flex": null,
            "flex_flow": null,
            "grid_area": null,
            "grid_auto_columns": null,
            "grid_auto_flow": null,
            "grid_auto_rows": null,
            "grid_column": null,
            "grid_gap": null,
            "grid_row": null,
            "grid_template_areas": null,
            "grid_template_columns": null,
            "grid_template_rows": null,
            "height": null,
            "justify_content": null,
            "justify_items": null,
            "left": null,
            "margin": null,
            "max_height": null,
            "max_width": null,
            "min_height": null,
            "min_width": null,
            "object_fit": null,
            "object_position": null,
            "order": null,
            "overflow": null,
            "overflow_x": null,
            "overflow_y": null,
            "padding": null,
            "right": null,
            "top": null,
            "visibility": null,
            "width": null
          }
        },
        "630bed13c6a3463281ef8355479acf9d": {
          "model_module": "@jupyter-widgets/controls",
          "model_name": "DescriptionStyleModel",
          "model_module_version": "1.5.0",
          "state": {
            "_model_module": "@jupyter-widgets/controls",
            "_model_module_version": "1.5.0",
            "_model_name": "DescriptionStyleModel",
            "_view_count": null,
            "_view_module": "@jupyter-widgets/base",
            "_view_module_version": "1.2.0",
            "_view_name": "StyleView",
            "description_width": ""
          }
        },
        "a37cde393a114b4186624677dd5c2f4a": {
          "model_module": "@jupyter-widgets/controls",
          "model_name": "HBoxModel",
          "model_module_version": "1.5.0",
          "state": {
            "_dom_classes": [],
            "_model_module": "@jupyter-widgets/controls",
            "_model_module_version": "1.5.0",
            "_model_name": "HBoxModel",
            "_view_count": null,
            "_view_module": "@jupyter-widgets/controls",
            "_view_module_version": "1.5.0",
            "_view_name": "HBoxView",
            "box_style": "",
            "children": [
              "IPY_MODEL_20538ab5568f493fb1221bb958a6b9de",
              "IPY_MODEL_2bfaba4e81f0474ab2534cc478b15118",
              "IPY_MODEL_63e40c587674460dbf4a8f5fbf2f446d"
            ],
            "layout": "IPY_MODEL_bd636c6017bd4639b747df14ab614653"
          }
        },
        "20538ab5568f493fb1221bb958a6b9de": {
          "model_module": "@jupyter-widgets/controls",
          "model_name": "HTMLModel",
          "model_module_version": "1.5.0",
          "state": {
            "_dom_classes": [],
            "_model_module": "@jupyter-widgets/controls",
            "_model_module_version": "1.5.0",
            "_model_name": "HTMLModel",
            "_view_count": null,
            "_view_module": "@jupyter-widgets/controls",
            "_view_module_version": "1.5.0",
            "_view_name": "HTMLView",
            "description": "",
            "description_tooltip": null,
            "layout": "IPY_MODEL_7b350c6f7de647b0b300f8fecfe78966",
            "placeholder": "​",
            "style": "IPY_MODEL_fa1f6d1e567541aebd2a80a8ce56e31a",
            "value": "100%"
          }
        },
        "2bfaba4e81f0474ab2534cc478b15118": {
          "model_module": "@jupyter-widgets/controls",
          "model_name": "FloatProgressModel",
          "model_module_version": "1.5.0",
          "state": {
            "_dom_classes": [],
            "_model_module": "@jupyter-widgets/controls",
            "_model_module_version": "1.5.0",
            "_model_name": "FloatProgressModel",
            "_view_count": null,
            "_view_module": "@jupyter-widgets/controls",
            "_view_module_version": "1.5.0",
            "_view_name": "ProgressView",
            "bar_style": "success",
            "description": "",
            "description_tooltip": null,
            "layout": "IPY_MODEL_fd7c0f8350074af2be0066f6779b4f44",
            "max": 80,
            "min": 0,
            "orientation": "horizontal",
            "style": "IPY_MODEL_a90006cae5ac45819100e7215b2ef401",
            "value": 80
          }
        },
        "63e40c587674460dbf4a8f5fbf2f446d": {
          "model_module": "@jupyter-widgets/controls",
          "model_name": "HTMLModel",
          "model_module_version": "1.5.0",
          "state": {
            "_dom_classes": [],
            "_model_module": "@jupyter-widgets/controls",
            "_model_module_version": "1.5.0",
            "_model_name": "HTMLModel",
            "_view_count": null,
            "_view_module": "@jupyter-widgets/controls",
            "_view_module_version": "1.5.0",
            "_view_name": "HTMLView",
            "description": "",
            "description_tooltip": null,
            "layout": "IPY_MODEL_062c698f48c74cfdaf0fb0b977ac5268",
            "placeholder": "​",
            "style": "IPY_MODEL_6e36d31a661a4e54b46dc9d02a5a6d1c",
            "value": " 80/80 [00:13&lt;00:00,  4.16it/s]"
          }
        },
        "bd636c6017bd4639b747df14ab614653": {
          "model_module": "@jupyter-widgets/base",
          "model_name": "LayoutModel",
          "model_module_version": "1.2.0",
          "state": {
            "_model_module": "@jupyter-widgets/base",
            "_model_module_version": "1.2.0",
            "_model_name": "LayoutModel",
            "_view_count": null,
            "_view_module": "@jupyter-widgets/base",
            "_view_module_version": "1.2.0",
            "_view_name": "LayoutView",
            "align_content": null,
            "align_items": null,
            "align_self": null,
            "border": null,
            "bottom": null,
            "display": null,
            "flex": null,
            "flex_flow": null,
            "grid_area": null,
            "grid_auto_columns": null,
            "grid_auto_flow": null,
            "grid_auto_rows": null,
            "grid_column": null,
            "grid_gap": null,
            "grid_row": null,
            "grid_template_areas": null,
            "grid_template_columns": null,
            "grid_template_rows": null,
            "height": null,
            "justify_content": null,
            "justify_items": null,
            "left": null,
            "margin": null,
            "max_height": null,
            "max_width": null,
            "min_height": null,
            "min_width": null,
            "object_fit": null,
            "object_position": null,
            "order": null,
            "overflow": null,
            "overflow_x": null,
            "overflow_y": null,
            "padding": null,
            "right": null,
            "top": null,
            "visibility": null,
            "width": null
          }
        },
        "7b350c6f7de647b0b300f8fecfe78966": {
          "model_module": "@jupyter-widgets/base",
          "model_name": "LayoutModel",
          "model_module_version": "1.2.0",
          "state": {
            "_model_module": "@jupyter-widgets/base",
            "_model_module_version": "1.2.0",
            "_model_name": "LayoutModel",
            "_view_count": null,
            "_view_module": "@jupyter-widgets/base",
            "_view_module_version": "1.2.0",
            "_view_name": "LayoutView",
            "align_content": null,
            "align_items": null,
            "align_self": null,
            "border": null,
            "bottom": null,
            "display": null,
            "flex": null,
            "flex_flow": null,
            "grid_area": null,
            "grid_auto_columns": null,
            "grid_auto_flow": null,
            "grid_auto_rows": null,
            "grid_column": null,
            "grid_gap": null,
            "grid_row": null,
            "grid_template_areas": null,
            "grid_template_columns": null,
            "grid_template_rows": null,
            "height": null,
            "justify_content": null,
            "justify_items": null,
            "left": null,
            "margin": null,
            "max_height": null,
            "max_width": null,
            "min_height": null,
            "min_width": null,
            "object_fit": null,
            "object_position": null,
            "order": null,
            "overflow": null,
            "overflow_x": null,
            "overflow_y": null,
            "padding": null,
            "right": null,
            "top": null,
            "visibility": null,
            "width": null
          }
        },
        "fa1f6d1e567541aebd2a80a8ce56e31a": {
          "model_module": "@jupyter-widgets/controls",
          "model_name": "DescriptionStyleModel",
          "model_module_version": "1.5.0",
          "state": {
            "_model_module": "@jupyter-widgets/controls",
            "_model_module_version": "1.5.0",
            "_model_name": "DescriptionStyleModel",
            "_view_count": null,
            "_view_module": "@jupyter-widgets/base",
            "_view_module_version": "1.2.0",
            "_view_name": "StyleView",
            "description_width": ""
          }
        },
        "fd7c0f8350074af2be0066f6779b4f44": {
          "model_module": "@jupyter-widgets/base",
          "model_name": "LayoutModel",
          "model_module_version": "1.2.0",
          "state": {
            "_model_module": "@jupyter-widgets/base",
            "_model_module_version": "1.2.0",
            "_model_name": "LayoutModel",
            "_view_count": null,
            "_view_module": "@jupyter-widgets/base",
            "_view_module_version": "1.2.0",
            "_view_name": "LayoutView",
            "align_content": null,
            "align_items": null,
            "align_self": null,
            "border": null,
            "bottom": null,
            "display": null,
            "flex": null,
            "flex_flow": null,
            "grid_area": null,
            "grid_auto_columns": null,
            "grid_auto_flow": null,
            "grid_auto_rows": null,
            "grid_column": null,
            "grid_gap": null,
            "grid_row": null,
            "grid_template_areas": null,
            "grid_template_columns": null,
            "grid_template_rows": null,
            "height": null,
            "justify_content": null,
            "justify_items": null,
            "left": null,
            "margin": null,
            "max_height": null,
            "max_width": null,
            "min_height": null,
            "min_width": null,
            "object_fit": null,
            "object_position": null,
            "order": null,
            "overflow": null,
            "overflow_x": null,
            "overflow_y": null,
            "padding": null,
            "right": null,
            "top": null,
            "visibility": null,
            "width": null
          }
        },
        "a90006cae5ac45819100e7215b2ef401": {
          "model_module": "@jupyter-widgets/controls",
          "model_name": "ProgressStyleModel",
          "model_module_version": "1.5.0",
          "state": {
            "_model_module": "@jupyter-widgets/controls",
            "_model_module_version": "1.5.0",
            "_model_name": "ProgressStyleModel",
            "_view_count": null,
            "_view_module": "@jupyter-widgets/base",
            "_view_module_version": "1.2.0",
            "_view_name": "StyleView",
            "bar_color": null,
            "description_width": ""
          }
        },
        "062c698f48c74cfdaf0fb0b977ac5268": {
          "model_module": "@jupyter-widgets/base",
          "model_name": "LayoutModel",
          "model_module_version": "1.2.0",
          "state": {
            "_model_module": "@jupyter-widgets/base",
            "_model_module_version": "1.2.0",
            "_model_name": "LayoutModel",
            "_view_count": null,
            "_view_module": "@jupyter-widgets/base",
            "_view_module_version": "1.2.0",
            "_view_name": "LayoutView",
            "align_content": null,
            "align_items": null,
            "align_self": null,
            "border": null,
            "bottom": null,
            "display": null,
            "flex": null,
            "flex_flow": null,
            "grid_area": null,
            "grid_auto_columns": null,
            "grid_auto_flow": null,
            "grid_auto_rows": null,
            "grid_column": null,
            "grid_gap": null,
            "grid_row": null,
            "grid_template_areas": null,
            "grid_template_columns": null,
            "grid_template_rows": null,
            "height": null,
            "justify_content": null,
            "justify_items": null,
            "left": null,
            "margin": null,
            "max_height": null,
            "max_width": null,
            "min_height": null,
            "min_width": null,
            "object_fit": null,
            "object_position": null,
            "order": null,
            "overflow": null,
            "overflow_x": null,
            "overflow_y": null,
            "padding": null,
            "right": null,
            "top": null,
            "visibility": null,
            "width": null
          }
        },
        "6e36d31a661a4e54b46dc9d02a5a6d1c": {
          "model_module": "@jupyter-widgets/controls",
          "model_name": "DescriptionStyleModel",
          "model_module_version": "1.5.0",
          "state": {
            "_model_module": "@jupyter-widgets/controls",
            "_model_module_version": "1.5.0",
            "_model_name": "DescriptionStyleModel",
            "_view_count": null,
            "_view_module": "@jupyter-widgets/base",
            "_view_module_version": "1.2.0",
            "_view_name": "StyleView",
            "description_width": ""
          }
        },
        "f39240660d6f4997a0710335241bc7ef": {
          "model_module": "@jupyter-widgets/controls",
          "model_name": "HBoxModel",
          "model_module_version": "1.5.0",
          "state": {
            "_dom_classes": [],
            "_model_module": "@jupyter-widgets/controls",
            "_model_module_version": "1.5.0",
            "_model_name": "HBoxModel",
            "_view_count": null,
            "_view_module": "@jupyter-widgets/controls",
            "_view_module_version": "1.5.0",
            "_view_name": "HBoxView",
            "box_style": "",
            "children": [
              "IPY_MODEL_95cfc0a77c3a4497a2ae0e5d805589f1",
              "IPY_MODEL_dadc6f7eaf9a4ef9b3c729d8ffdebb5e",
              "IPY_MODEL_af386730a5ae4a578d67cc9a175aa104"
            ],
            "layout": "IPY_MODEL_a22d52ba6dce46c6938fc186db432169"
          }
        },
        "95cfc0a77c3a4497a2ae0e5d805589f1": {
          "model_module": "@jupyter-widgets/controls",
          "model_name": "HTMLModel",
          "model_module_version": "1.5.0",
          "state": {
            "_dom_classes": [],
            "_model_module": "@jupyter-widgets/controls",
            "_model_module_version": "1.5.0",
            "_model_name": "HTMLModel",
            "_view_count": null,
            "_view_module": "@jupyter-widgets/controls",
            "_view_module_version": "1.5.0",
            "_view_name": "HTMLView",
            "description": "",
            "description_tooltip": null,
            "layout": "IPY_MODEL_6456de08b5cc4321931131b6fdc5dd27",
            "placeholder": "​",
            "style": "IPY_MODEL_65c5cde6f06a4b5ba35c2379ef2b5304",
            "value": "100%"
          }
        },
        "dadc6f7eaf9a4ef9b3c729d8ffdebb5e": {
          "model_module": "@jupyter-widgets/controls",
          "model_name": "FloatProgressModel",
          "model_module_version": "1.5.0",
          "state": {
            "_dom_classes": [],
            "_model_module": "@jupyter-widgets/controls",
            "_model_module_version": "1.5.0",
            "_model_name": "FloatProgressModel",
            "_view_count": null,
            "_view_module": "@jupyter-widgets/controls",
            "_view_module_version": "1.5.0",
            "_view_name": "ProgressView",
            "bar_style": "success",
            "description": "",
            "description_tooltip": null,
            "layout": "IPY_MODEL_299bddb256d945db8f4e587dbe87e79a",
            "max": 80,
            "min": 0,
            "orientation": "horizontal",
            "style": "IPY_MODEL_83a498e2b21940e19fdbe6e8fa71b07d",
            "value": 80
          }
        },
        "af386730a5ae4a578d67cc9a175aa104": {
          "model_module": "@jupyter-widgets/controls",
          "model_name": "HTMLModel",
          "model_module_version": "1.5.0",
          "state": {
            "_dom_classes": [],
            "_model_module": "@jupyter-widgets/controls",
            "_model_module_version": "1.5.0",
            "_model_name": "HTMLModel",
            "_view_count": null,
            "_view_module": "@jupyter-widgets/controls",
            "_view_module_version": "1.5.0",
            "_view_name": "HTMLView",
            "description": "",
            "description_tooltip": null,
            "layout": "IPY_MODEL_0061885eb5384dc6a0296aa9d9bcfaa8",
            "placeholder": "​",
            "style": "IPY_MODEL_f7325f91b34e4530949cb2a4b57e873e",
            "value": " 80/80 [00:10&lt;00:00,  7.79it/s]"
          }
        },
        "a22d52ba6dce46c6938fc186db432169": {
          "model_module": "@jupyter-widgets/base",
          "model_name": "LayoutModel",
          "model_module_version": "1.2.0",
          "state": {
            "_model_module": "@jupyter-widgets/base",
            "_model_module_version": "1.2.0",
            "_model_name": "LayoutModel",
            "_view_count": null,
            "_view_module": "@jupyter-widgets/base",
            "_view_module_version": "1.2.0",
            "_view_name": "LayoutView",
            "align_content": null,
            "align_items": null,
            "align_self": null,
            "border": null,
            "bottom": null,
            "display": null,
            "flex": null,
            "flex_flow": null,
            "grid_area": null,
            "grid_auto_columns": null,
            "grid_auto_flow": null,
            "grid_auto_rows": null,
            "grid_column": null,
            "grid_gap": null,
            "grid_row": null,
            "grid_template_areas": null,
            "grid_template_columns": null,
            "grid_template_rows": null,
            "height": null,
            "justify_content": null,
            "justify_items": null,
            "left": null,
            "margin": null,
            "max_height": null,
            "max_width": null,
            "min_height": null,
            "min_width": null,
            "object_fit": null,
            "object_position": null,
            "order": null,
            "overflow": null,
            "overflow_x": null,
            "overflow_y": null,
            "padding": null,
            "right": null,
            "top": null,
            "visibility": null,
            "width": null
          }
        },
        "6456de08b5cc4321931131b6fdc5dd27": {
          "model_module": "@jupyter-widgets/base",
          "model_name": "LayoutModel",
          "model_module_version": "1.2.0",
          "state": {
            "_model_module": "@jupyter-widgets/base",
            "_model_module_version": "1.2.0",
            "_model_name": "LayoutModel",
            "_view_count": null,
            "_view_module": "@jupyter-widgets/base",
            "_view_module_version": "1.2.0",
            "_view_name": "LayoutView",
            "align_content": null,
            "align_items": null,
            "align_self": null,
            "border": null,
            "bottom": null,
            "display": null,
            "flex": null,
            "flex_flow": null,
            "grid_area": null,
            "grid_auto_columns": null,
            "grid_auto_flow": null,
            "grid_auto_rows": null,
            "grid_column": null,
            "grid_gap": null,
            "grid_row": null,
            "grid_template_areas": null,
            "grid_template_columns": null,
            "grid_template_rows": null,
            "height": null,
            "justify_content": null,
            "justify_items": null,
            "left": null,
            "margin": null,
            "max_height": null,
            "max_width": null,
            "min_height": null,
            "min_width": null,
            "object_fit": null,
            "object_position": null,
            "order": null,
            "overflow": null,
            "overflow_x": null,
            "overflow_y": null,
            "padding": null,
            "right": null,
            "top": null,
            "visibility": null,
            "width": null
          }
        },
        "65c5cde6f06a4b5ba35c2379ef2b5304": {
          "model_module": "@jupyter-widgets/controls",
          "model_name": "DescriptionStyleModel",
          "model_module_version": "1.5.0",
          "state": {
            "_model_module": "@jupyter-widgets/controls",
            "_model_module_version": "1.5.0",
            "_model_name": "DescriptionStyleModel",
            "_view_count": null,
            "_view_module": "@jupyter-widgets/base",
            "_view_module_version": "1.2.0",
            "_view_name": "StyleView",
            "description_width": ""
          }
        },
        "299bddb256d945db8f4e587dbe87e79a": {
          "model_module": "@jupyter-widgets/base",
          "model_name": "LayoutModel",
          "model_module_version": "1.2.0",
          "state": {
            "_model_module": "@jupyter-widgets/base",
            "_model_module_version": "1.2.0",
            "_model_name": "LayoutModel",
            "_view_count": null,
            "_view_module": "@jupyter-widgets/base",
            "_view_module_version": "1.2.0",
            "_view_name": "LayoutView",
            "align_content": null,
            "align_items": null,
            "align_self": null,
            "border": null,
            "bottom": null,
            "display": null,
            "flex": null,
            "flex_flow": null,
            "grid_area": null,
            "grid_auto_columns": null,
            "grid_auto_flow": null,
            "grid_auto_rows": null,
            "grid_column": null,
            "grid_gap": null,
            "grid_row": null,
            "grid_template_areas": null,
            "grid_template_columns": null,
            "grid_template_rows": null,
            "height": null,
            "justify_content": null,
            "justify_items": null,
            "left": null,
            "margin": null,
            "max_height": null,
            "max_width": null,
            "min_height": null,
            "min_width": null,
            "object_fit": null,
            "object_position": null,
            "order": null,
            "overflow": null,
            "overflow_x": null,
            "overflow_y": null,
            "padding": null,
            "right": null,
            "top": null,
            "visibility": null,
            "width": null
          }
        },
        "83a498e2b21940e19fdbe6e8fa71b07d": {
          "model_module": "@jupyter-widgets/controls",
          "model_name": "ProgressStyleModel",
          "model_module_version": "1.5.0",
          "state": {
            "_model_module": "@jupyter-widgets/controls",
            "_model_module_version": "1.5.0",
            "_model_name": "ProgressStyleModel",
            "_view_count": null,
            "_view_module": "@jupyter-widgets/base",
            "_view_module_version": "1.2.0",
            "_view_name": "StyleView",
            "bar_color": null,
            "description_width": ""
          }
        },
        "0061885eb5384dc6a0296aa9d9bcfaa8": {
          "model_module": "@jupyter-widgets/base",
          "model_name": "LayoutModel",
          "model_module_version": "1.2.0",
          "state": {
            "_model_module": "@jupyter-widgets/base",
            "_model_module_version": "1.2.0",
            "_model_name": "LayoutModel",
            "_view_count": null,
            "_view_module": "@jupyter-widgets/base",
            "_view_module_version": "1.2.0",
            "_view_name": "LayoutView",
            "align_content": null,
            "align_items": null,
            "align_self": null,
            "border": null,
            "bottom": null,
            "display": null,
            "flex": null,
            "flex_flow": null,
            "grid_area": null,
            "grid_auto_columns": null,
            "grid_auto_flow": null,
            "grid_auto_rows": null,
            "grid_column": null,
            "grid_gap": null,
            "grid_row": null,
            "grid_template_areas": null,
            "grid_template_columns": null,
            "grid_template_rows": null,
            "height": null,
            "justify_content": null,
            "justify_items": null,
            "left": null,
            "margin": null,
            "max_height": null,
            "max_width": null,
            "min_height": null,
            "min_width": null,
            "object_fit": null,
            "object_position": null,
            "order": null,
            "overflow": null,
            "overflow_x": null,
            "overflow_y": null,
            "padding": null,
            "right": null,
            "top": null,
            "visibility": null,
            "width": null
          }
        },
        "f7325f91b34e4530949cb2a4b57e873e": {
          "model_module": "@jupyter-widgets/controls",
          "model_name": "DescriptionStyleModel",
          "model_module_version": "1.5.0",
          "state": {
            "_model_module": "@jupyter-widgets/controls",
            "_model_module_version": "1.5.0",
            "_model_name": "DescriptionStyleModel",
            "_view_count": null,
            "_view_module": "@jupyter-widgets/base",
            "_view_module_version": "1.2.0",
            "_view_name": "StyleView",
            "description_width": ""
          }
        },
        "9010f22d2ed74a789b00b66af730d6cf": {
          "model_module": "@jupyter-widgets/controls",
          "model_name": "HBoxModel",
          "model_module_version": "1.5.0",
          "state": {
            "_dom_classes": [],
            "_model_module": "@jupyter-widgets/controls",
            "_model_module_version": "1.5.0",
            "_model_name": "HBoxModel",
            "_view_count": null,
            "_view_module": "@jupyter-widgets/controls",
            "_view_module_version": "1.5.0",
            "_view_name": "HBoxView",
            "box_style": "",
            "children": [
              "IPY_MODEL_af97298c453f41c5a528b2242929b3be",
              "IPY_MODEL_0d90b8ca6475431db39da5e914d4211e",
              "IPY_MODEL_6540ac8a2682491caa2da2a3cf5d798e"
            ],
            "layout": "IPY_MODEL_4959585fea81416db6a18da3bf2c9efb"
          }
        },
        "af97298c453f41c5a528b2242929b3be": {
          "model_module": "@jupyter-widgets/controls",
          "model_name": "HTMLModel",
          "model_module_version": "1.5.0",
          "state": {
            "_dom_classes": [],
            "_model_module": "@jupyter-widgets/controls",
            "_model_module_version": "1.5.0",
            "_model_name": "HTMLModel",
            "_view_count": null,
            "_view_module": "@jupyter-widgets/controls",
            "_view_module_version": "1.5.0",
            "_view_name": "HTMLView",
            "description": "",
            "description_tooltip": null,
            "layout": "IPY_MODEL_4b750456f5bd4923a2dccf80722a0259",
            "placeholder": "​",
            "style": "IPY_MODEL_7d003a4de64d4026b05008abf6c27e9a",
            "value": "100%"
          }
        },
        "0d90b8ca6475431db39da5e914d4211e": {
          "model_module": "@jupyter-widgets/controls",
          "model_name": "FloatProgressModel",
          "model_module_version": "1.5.0",
          "state": {
            "_dom_classes": [],
            "_model_module": "@jupyter-widgets/controls",
            "_model_module_version": "1.5.0",
            "_model_name": "FloatProgressModel",
            "_view_count": null,
            "_view_module": "@jupyter-widgets/controls",
            "_view_module_version": "1.5.0",
            "_view_name": "ProgressView",
            "bar_style": "success",
            "description": "",
            "description_tooltip": null,
            "layout": "IPY_MODEL_ffeddcb8c39c45e7941c7a20eaa2bc42",
            "max": 80,
            "min": 0,
            "orientation": "horizontal",
            "style": "IPY_MODEL_225b37c964274cd6a25e11169faf373e",
            "value": 80
          }
        },
        "6540ac8a2682491caa2da2a3cf5d798e": {
          "model_module": "@jupyter-widgets/controls",
          "model_name": "HTMLModel",
          "model_module_version": "1.5.0",
          "state": {
            "_dom_classes": [],
            "_model_module": "@jupyter-widgets/controls",
            "_model_module_version": "1.5.0",
            "_model_name": "HTMLModel",
            "_view_count": null,
            "_view_module": "@jupyter-widgets/controls",
            "_view_module_version": "1.5.0",
            "_view_name": "HTMLView",
            "description": "",
            "description_tooltip": null,
            "layout": "IPY_MODEL_dc676d008cbe408eb3b0302903687835",
            "placeholder": "​",
            "style": "IPY_MODEL_f7ab1cc5cbe34da2bbbe7266dbeb1823",
            "value": " 80/80 [00:21&lt;00:00,  4.36it/s]"
          }
        },
        "4959585fea81416db6a18da3bf2c9efb": {
          "model_module": "@jupyter-widgets/base",
          "model_name": "LayoutModel",
          "model_module_version": "1.2.0",
          "state": {
            "_model_module": "@jupyter-widgets/base",
            "_model_module_version": "1.2.0",
            "_model_name": "LayoutModel",
            "_view_count": null,
            "_view_module": "@jupyter-widgets/base",
            "_view_module_version": "1.2.0",
            "_view_name": "LayoutView",
            "align_content": null,
            "align_items": null,
            "align_self": null,
            "border": null,
            "bottom": null,
            "display": null,
            "flex": null,
            "flex_flow": null,
            "grid_area": null,
            "grid_auto_columns": null,
            "grid_auto_flow": null,
            "grid_auto_rows": null,
            "grid_column": null,
            "grid_gap": null,
            "grid_row": null,
            "grid_template_areas": null,
            "grid_template_columns": null,
            "grid_template_rows": null,
            "height": null,
            "justify_content": null,
            "justify_items": null,
            "left": null,
            "margin": null,
            "max_height": null,
            "max_width": null,
            "min_height": null,
            "min_width": null,
            "object_fit": null,
            "object_position": null,
            "order": null,
            "overflow": null,
            "overflow_x": null,
            "overflow_y": null,
            "padding": null,
            "right": null,
            "top": null,
            "visibility": null,
            "width": null
          }
        },
        "4b750456f5bd4923a2dccf80722a0259": {
          "model_module": "@jupyter-widgets/base",
          "model_name": "LayoutModel",
          "model_module_version": "1.2.0",
          "state": {
            "_model_module": "@jupyter-widgets/base",
            "_model_module_version": "1.2.0",
            "_model_name": "LayoutModel",
            "_view_count": null,
            "_view_module": "@jupyter-widgets/base",
            "_view_module_version": "1.2.0",
            "_view_name": "LayoutView",
            "align_content": null,
            "align_items": null,
            "align_self": null,
            "border": null,
            "bottom": null,
            "display": null,
            "flex": null,
            "flex_flow": null,
            "grid_area": null,
            "grid_auto_columns": null,
            "grid_auto_flow": null,
            "grid_auto_rows": null,
            "grid_column": null,
            "grid_gap": null,
            "grid_row": null,
            "grid_template_areas": null,
            "grid_template_columns": null,
            "grid_template_rows": null,
            "height": null,
            "justify_content": null,
            "justify_items": null,
            "left": null,
            "margin": null,
            "max_height": null,
            "max_width": null,
            "min_height": null,
            "min_width": null,
            "object_fit": null,
            "object_position": null,
            "order": null,
            "overflow": null,
            "overflow_x": null,
            "overflow_y": null,
            "padding": null,
            "right": null,
            "top": null,
            "visibility": null,
            "width": null
          }
        },
        "7d003a4de64d4026b05008abf6c27e9a": {
          "model_module": "@jupyter-widgets/controls",
          "model_name": "DescriptionStyleModel",
          "model_module_version": "1.5.0",
          "state": {
            "_model_module": "@jupyter-widgets/controls",
            "_model_module_version": "1.5.0",
            "_model_name": "DescriptionStyleModel",
            "_view_count": null,
            "_view_module": "@jupyter-widgets/base",
            "_view_module_version": "1.2.0",
            "_view_name": "StyleView",
            "description_width": ""
          }
        },
        "ffeddcb8c39c45e7941c7a20eaa2bc42": {
          "model_module": "@jupyter-widgets/base",
          "model_name": "LayoutModel",
          "model_module_version": "1.2.0",
          "state": {
            "_model_module": "@jupyter-widgets/base",
            "_model_module_version": "1.2.0",
            "_model_name": "LayoutModel",
            "_view_count": null,
            "_view_module": "@jupyter-widgets/base",
            "_view_module_version": "1.2.0",
            "_view_name": "LayoutView",
            "align_content": null,
            "align_items": null,
            "align_self": null,
            "border": null,
            "bottom": null,
            "display": null,
            "flex": null,
            "flex_flow": null,
            "grid_area": null,
            "grid_auto_columns": null,
            "grid_auto_flow": null,
            "grid_auto_rows": null,
            "grid_column": null,
            "grid_gap": null,
            "grid_row": null,
            "grid_template_areas": null,
            "grid_template_columns": null,
            "grid_template_rows": null,
            "height": null,
            "justify_content": null,
            "justify_items": null,
            "left": null,
            "margin": null,
            "max_height": null,
            "max_width": null,
            "min_height": null,
            "min_width": null,
            "object_fit": null,
            "object_position": null,
            "order": null,
            "overflow": null,
            "overflow_x": null,
            "overflow_y": null,
            "padding": null,
            "right": null,
            "top": null,
            "visibility": null,
            "width": null
          }
        },
        "225b37c964274cd6a25e11169faf373e": {
          "model_module": "@jupyter-widgets/controls",
          "model_name": "ProgressStyleModel",
          "model_module_version": "1.5.0",
          "state": {
            "_model_module": "@jupyter-widgets/controls",
            "_model_module_version": "1.5.0",
            "_model_name": "ProgressStyleModel",
            "_view_count": null,
            "_view_module": "@jupyter-widgets/base",
            "_view_module_version": "1.2.0",
            "_view_name": "StyleView",
            "bar_color": null,
            "description_width": ""
          }
        },
        "dc676d008cbe408eb3b0302903687835": {
          "model_module": "@jupyter-widgets/base",
          "model_name": "LayoutModel",
          "model_module_version": "1.2.0",
          "state": {
            "_model_module": "@jupyter-widgets/base",
            "_model_module_version": "1.2.0",
            "_model_name": "LayoutModel",
            "_view_count": null,
            "_view_module": "@jupyter-widgets/base",
            "_view_module_version": "1.2.0",
            "_view_name": "LayoutView",
            "align_content": null,
            "align_items": null,
            "align_self": null,
            "border": null,
            "bottom": null,
            "display": null,
            "flex": null,
            "flex_flow": null,
            "grid_area": null,
            "grid_auto_columns": null,
            "grid_auto_flow": null,
            "grid_auto_rows": null,
            "grid_column": null,
            "grid_gap": null,
            "grid_row": null,
            "grid_template_areas": null,
            "grid_template_columns": null,
            "grid_template_rows": null,
            "height": null,
            "justify_content": null,
            "justify_items": null,
            "left": null,
            "margin": null,
            "max_height": null,
            "max_width": null,
            "min_height": null,
            "min_width": null,
            "object_fit": null,
            "object_position": null,
            "order": null,
            "overflow": null,
            "overflow_x": null,
            "overflow_y": null,
            "padding": null,
            "right": null,
            "top": null,
            "visibility": null,
            "width": null
          }
        },
        "f7ab1cc5cbe34da2bbbe7266dbeb1823": {
          "model_module": "@jupyter-widgets/controls",
          "model_name": "DescriptionStyleModel",
          "model_module_version": "1.5.0",
          "state": {
            "_model_module": "@jupyter-widgets/controls",
            "_model_module_version": "1.5.0",
            "_model_name": "DescriptionStyleModel",
            "_view_count": null,
            "_view_module": "@jupyter-widgets/base",
            "_view_module_version": "1.2.0",
            "_view_name": "StyleView",
            "description_width": ""
          }
        },
        "f994052b513248718cb34672bd365b9d": {
          "model_module": "@jupyter-widgets/controls",
          "model_name": "HBoxModel",
          "model_module_version": "1.5.0",
          "state": {
            "_dom_classes": [],
            "_model_module": "@jupyter-widgets/controls",
            "_model_module_version": "1.5.0",
            "_model_name": "HBoxModel",
            "_view_count": null,
            "_view_module": "@jupyter-widgets/controls",
            "_view_module_version": "1.5.0",
            "_view_name": "HBoxView",
            "box_style": "",
            "children": [
              "IPY_MODEL_a1b478f4f9ea4a0fa08747f5a32b1e1d",
              "IPY_MODEL_9048d2b908414eaaa7ceffcaf651fdba",
              "IPY_MODEL_681985092740482d87e56014bc972804"
            ],
            "layout": "IPY_MODEL_51d6ffd83175406586b98f4ce1c8c930"
          }
        },
        "a1b478f4f9ea4a0fa08747f5a32b1e1d": {
          "model_module": "@jupyter-widgets/controls",
          "model_name": "HTMLModel",
          "model_module_version": "1.5.0",
          "state": {
            "_dom_classes": [],
            "_model_module": "@jupyter-widgets/controls",
            "_model_module_version": "1.5.0",
            "_model_name": "HTMLModel",
            "_view_count": null,
            "_view_module": "@jupyter-widgets/controls",
            "_view_module_version": "1.5.0",
            "_view_name": "HTMLView",
            "description": "",
            "description_tooltip": null,
            "layout": "IPY_MODEL_ca99de80eecd42e0b536f639efab0585",
            "placeholder": "​",
            "style": "IPY_MODEL_5d02a45e9d4048ea98b04809406b407d",
            "value": "100%"
          }
        },
        "9048d2b908414eaaa7ceffcaf651fdba": {
          "model_module": "@jupyter-widgets/controls",
          "model_name": "FloatProgressModel",
          "model_module_version": "1.5.0",
          "state": {
            "_dom_classes": [],
            "_model_module": "@jupyter-widgets/controls",
            "_model_module_version": "1.5.0",
            "_model_name": "FloatProgressModel",
            "_view_count": null,
            "_view_module": "@jupyter-widgets/controls",
            "_view_module_version": "1.5.0",
            "_view_name": "ProgressView",
            "bar_style": "success",
            "description": "",
            "description_tooltip": null,
            "layout": "IPY_MODEL_1113dd17587440cdb19dd272b8bf77d1",
            "max": 80,
            "min": 0,
            "orientation": "horizontal",
            "style": "IPY_MODEL_868561c742b2413ab51b7a18366db9f6",
            "value": 80
          }
        },
        "681985092740482d87e56014bc972804": {
          "model_module": "@jupyter-widgets/controls",
          "model_name": "HTMLModel",
          "model_module_version": "1.5.0",
          "state": {
            "_dom_classes": [],
            "_model_module": "@jupyter-widgets/controls",
            "_model_module_version": "1.5.0",
            "_model_name": "HTMLModel",
            "_view_count": null,
            "_view_module": "@jupyter-widgets/controls",
            "_view_module_version": "1.5.0",
            "_view_name": "HTMLView",
            "description": "",
            "description_tooltip": null,
            "layout": "IPY_MODEL_0ee46c35c4f64d0bb34c9340390caac2",
            "placeholder": "​",
            "style": "IPY_MODEL_79ce48da1f4547c58c1cdec030f1d777",
            "value": " 80/80 [00:16&lt;00:00,  4.56it/s]"
          }
        },
        "51d6ffd83175406586b98f4ce1c8c930": {
          "model_module": "@jupyter-widgets/base",
          "model_name": "LayoutModel",
          "model_module_version": "1.2.0",
          "state": {
            "_model_module": "@jupyter-widgets/base",
            "_model_module_version": "1.2.0",
            "_model_name": "LayoutModel",
            "_view_count": null,
            "_view_module": "@jupyter-widgets/base",
            "_view_module_version": "1.2.0",
            "_view_name": "LayoutView",
            "align_content": null,
            "align_items": null,
            "align_self": null,
            "border": null,
            "bottom": null,
            "display": null,
            "flex": null,
            "flex_flow": null,
            "grid_area": null,
            "grid_auto_columns": null,
            "grid_auto_flow": null,
            "grid_auto_rows": null,
            "grid_column": null,
            "grid_gap": null,
            "grid_row": null,
            "grid_template_areas": null,
            "grid_template_columns": null,
            "grid_template_rows": null,
            "height": null,
            "justify_content": null,
            "justify_items": null,
            "left": null,
            "margin": null,
            "max_height": null,
            "max_width": null,
            "min_height": null,
            "min_width": null,
            "object_fit": null,
            "object_position": null,
            "order": null,
            "overflow": null,
            "overflow_x": null,
            "overflow_y": null,
            "padding": null,
            "right": null,
            "top": null,
            "visibility": null,
            "width": null
          }
        },
        "ca99de80eecd42e0b536f639efab0585": {
          "model_module": "@jupyter-widgets/base",
          "model_name": "LayoutModel",
          "model_module_version": "1.2.0",
          "state": {
            "_model_module": "@jupyter-widgets/base",
            "_model_module_version": "1.2.0",
            "_model_name": "LayoutModel",
            "_view_count": null,
            "_view_module": "@jupyter-widgets/base",
            "_view_module_version": "1.2.0",
            "_view_name": "LayoutView",
            "align_content": null,
            "align_items": null,
            "align_self": null,
            "border": null,
            "bottom": null,
            "display": null,
            "flex": null,
            "flex_flow": null,
            "grid_area": null,
            "grid_auto_columns": null,
            "grid_auto_flow": null,
            "grid_auto_rows": null,
            "grid_column": null,
            "grid_gap": null,
            "grid_row": null,
            "grid_template_areas": null,
            "grid_template_columns": null,
            "grid_template_rows": null,
            "height": null,
            "justify_content": null,
            "justify_items": null,
            "left": null,
            "margin": null,
            "max_height": null,
            "max_width": null,
            "min_height": null,
            "min_width": null,
            "object_fit": null,
            "object_position": null,
            "order": null,
            "overflow": null,
            "overflow_x": null,
            "overflow_y": null,
            "padding": null,
            "right": null,
            "top": null,
            "visibility": null,
            "width": null
          }
        },
        "5d02a45e9d4048ea98b04809406b407d": {
          "model_module": "@jupyter-widgets/controls",
          "model_name": "DescriptionStyleModel",
          "model_module_version": "1.5.0",
          "state": {
            "_model_module": "@jupyter-widgets/controls",
            "_model_module_version": "1.5.0",
            "_model_name": "DescriptionStyleModel",
            "_view_count": null,
            "_view_module": "@jupyter-widgets/base",
            "_view_module_version": "1.2.0",
            "_view_name": "StyleView",
            "description_width": ""
          }
        },
        "1113dd17587440cdb19dd272b8bf77d1": {
          "model_module": "@jupyter-widgets/base",
          "model_name": "LayoutModel",
          "model_module_version": "1.2.0",
          "state": {
            "_model_module": "@jupyter-widgets/base",
            "_model_module_version": "1.2.0",
            "_model_name": "LayoutModel",
            "_view_count": null,
            "_view_module": "@jupyter-widgets/base",
            "_view_module_version": "1.2.0",
            "_view_name": "LayoutView",
            "align_content": null,
            "align_items": null,
            "align_self": null,
            "border": null,
            "bottom": null,
            "display": null,
            "flex": null,
            "flex_flow": null,
            "grid_area": null,
            "grid_auto_columns": null,
            "grid_auto_flow": null,
            "grid_auto_rows": null,
            "grid_column": null,
            "grid_gap": null,
            "grid_row": null,
            "grid_template_areas": null,
            "grid_template_columns": null,
            "grid_template_rows": null,
            "height": null,
            "justify_content": null,
            "justify_items": null,
            "left": null,
            "margin": null,
            "max_height": null,
            "max_width": null,
            "min_height": null,
            "min_width": null,
            "object_fit": null,
            "object_position": null,
            "order": null,
            "overflow": null,
            "overflow_x": null,
            "overflow_y": null,
            "padding": null,
            "right": null,
            "top": null,
            "visibility": null,
            "width": null
          }
        },
        "868561c742b2413ab51b7a18366db9f6": {
          "model_module": "@jupyter-widgets/controls",
          "model_name": "ProgressStyleModel",
          "model_module_version": "1.5.0",
          "state": {
            "_model_module": "@jupyter-widgets/controls",
            "_model_module_version": "1.5.0",
            "_model_name": "ProgressStyleModel",
            "_view_count": null,
            "_view_module": "@jupyter-widgets/base",
            "_view_module_version": "1.2.0",
            "_view_name": "StyleView",
            "bar_color": null,
            "description_width": ""
          }
        },
        "0ee46c35c4f64d0bb34c9340390caac2": {
          "model_module": "@jupyter-widgets/base",
          "model_name": "LayoutModel",
          "model_module_version": "1.2.0",
          "state": {
            "_model_module": "@jupyter-widgets/base",
            "_model_module_version": "1.2.0",
            "_model_name": "LayoutModel",
            "_view_count": null,
            "_view_module": "@jupyter-widgets/base",
            "_view_module_version": "1.2.0",
            "_view_name": "LayoutView",
            "align_content": null,
            "align_items": null,
            "align_self": null,
            "border": null,
            "bottom": null,
            "display": null,
            "flex": null,
            "flex_flow": null,
            "grid_area": null,
            "grid_auto_columns": null,
            "grid_auto_flow": null,
            "grid_auto_rows": null,
            "grid_column": null,
            "grid_gap": null,
            "grid_row": null,
            "grid_template_areas": null,
            "grid_template_columns": null,
            "grid_template_rows": null,
            "height": null,
            "justify_content": null,
            "justify_items": null,
            "left": null,
            "margin": null,
            "max_height": null,
            "max_width": null,
            "min_height": null,
            "min_width": null,
            "object_fit": null,
            "object_position": null,
            "order": null,
            "overflow": null,
            "overflow_x": null,
            "overflow_y": null,
            "padding": null,
            "right": null,
            "top": null,
            "visibility": null,
            "width": null
          }
        },
        "79ce48da1f4547c58c1cdec030f1d777": {
          "model_module": "@jupyter-widgets/controls",
          "model_name": "DescriptionStyleModel",
          "model_module_version": "1.5.0",
          "state": {
            "_model_module": "@jupyter-widgets/controls",
            "_model_module_version": "1.5.0",
            "_model_name": "DescriptionStyleModel",
            "_view_count": null,
            "_view_module": "@jupyter-widgets/base",
            "_view_module_version": "1.2.0",
            "_view_name": "StyleView",
            "description_width": ""
          }
        },
        "9f1d9b6b364a4c1cb486c5ea5c361ead": {
          "model_module": "@jupyter-widgets/controls",
          "model_name": "HBoxModel",
          "model_module_version": "1.5.0",
          "state": {
            "_dom_classes": [],
            "_model_module": "@jupyter-widgets/controls",
            "_model_module_version": "1.5.0",
            "_model_name": "HBoxModel",
            "_view_count": null,
            "_view_module": "@jupyter-widgets/controls",
            "_view_module_version": "1.5.0",
            "_view_name": "HBoxView",
            "box_style": "",
            "children": [
              "IPY_MODEL_2468a908a0e848b187713ab37f2fc6d3",
              "IPY_MODEL_14ad25aea58b4f6c8dd1954f448dca5e",
              "IPY_MODEL_4e96178eb7a7435cae38cb02ec866fba"
            ],
            "layout": "IPY_MODEL_2e2d07347a5c43e896660a092024624e"
          }
        },
        "2468a908a0e848b187713ab37f2fc6d3": {
          "model_module": "@jupyter-widgets/controls",
          "model_name": "HTMLModel",
          "model_module_version": "1.5.0",
          "state": {
            "_dom_classes": [],
            "_model_module": "@jupyter-widgets/controls",
            "_model_module_version": "1.5.0",
            "_model_name": "HTMLModel",
            "_view_count": null,
            "_view_module": "@jupyter-widgets/controls",
            "_view_module_version": "1.5.0",
            "_view_name": "HTMLView",
            "description": "",
            "description_tooltip": null,
            "layout": "IPY_MODEL_9874232849024bb39c389afacde92df6",
            "placeholder": "​",
            "style": "IPY_MODEL_109778c37fa246caa663023378821240",
            "value": "100%"
          }
        },
        "14ad25aea58b4f6c8dd1954f448dca5e": {
          "model_module": "@jupyter-widgets/controls",
          "model_name": "FloatProgressModel",
          "model_module_version": "1.5.0",
          "state": {
            "_dom_classes": [],
            "_model_module": "@jupyter-widgets/controls",
            "_model_module_version": "1.5.0",
            "_model_name": "FloatProgressModel",
            "_view_count": null,
            "_view_module": "@jupyter-widgets/controls",
            "_view_module_version": "1.5.0",
            "_view_name": "ProgressView",
            "bar_style": "success",
            "description": "",
            "description_tooltip": null,
            "layout": "IPY_MODEL_602763406da6413eaca2ce2c8afc731e",
            "max": 80,
            "min": 0,
            "orientation": "horizontal",
            "style": "IPY_MODEL_d395f0c35f5747f58c2f21f6be3f3b90",
            "value": 80
          }
        },
        "4e96178eb7a7435cae38cb02ec866fba": {
          "model_module": "@jupyter-widgets/controls",
          "model_name": "HTMLModel",
          "model_module_version": "1.5.0",
          "state": {
            "_dom_classes": [],
            "_model_module": "@jupyter-widgets/controls",
            "_model_module_version": "1.5.0",
            "_model_name": "HTMLModel",
            "_view_count": null,
            "_view_module": "@jupyter-widgets/controls",
            "_view_module_version": "1.5.0",
            "_view_name": "HTMLView",
            "description": "",
            "description_tooltip": null,
            "layout": "IPY_MODEL_edc9b2b3e8d847b29976be23259444e4",
            "placeholder": "​",
            "style": "IPY_MODEL_39eeba52b6b0464097e8fc578d3e9816",
            "value": " 80/80 [00:09&lt;00:00,  5.99it/s]"
          }
        },
        "2e2d07347a5c43e896660a092024624e": {
          "model_module": "@jupyter-widgets/base",
          "model_name": "LayoutModel",
          "model_module_version": "1.2.0",
          "state": {
            "_model_module": "@jupyter-widgets/base",
            "_model_module_version": "1.2.0",
            "_model_name": "LayoutModel",
            "_view_count": null,
            "_view_module": "@jupyter-widgets/base",
            "_view_module_version": "1.2.0",
            "_view_name": "LayoutView",
            "align_content": null,
            "align_items": null,
            "align_self": null,
            "border": null,
            "bottom": null,
            "display": null,
            "flex": null,
            "flex_flow": null,
            "grid_area": null,
            "grid_auto_columns": null,
            "grid_auto_flow": null,
            "grid_auto_rows": null,
            "grid_column": null,
            "grid_gap": null,
            "grid_row": null,
            "grid_template_areas": null,
            "grid_template_columns": null,
            "grid_template_rows": null,
            "height": null,
            "justify_content": null,
            "justify_items": null,
            "left": null,
            "margin": null,
            "max_height": null,
            "max_width": null,
            "min_height": null,
            "min_width": null,
            "object_fit": null,
            "object_position": null,
            "order": null,
            "overflow": null,
            "overflow_x": null,
            "overflow_y": null,
            "padding": null,
            "right": null,
            "top": null,
            "visibility": null,
            "width": null
          }
        },
        "9874232849024bb39c389afacde92df6": {
          "model_module": "@jupyter-widgets/base",
          "model_name": "LayoutModel",
          "model_module_version": "1.2.0",
          "state": {
            "_model_module": "@jupyter-widgets/base",
            "_model_module_version": "1.2.0",
            "_model_name": "LayoutModel",
            "_view_count": null,
            "_view_module": "@jupyter-widgets/base",
            "_view_module_version": "1.2.0",
            "_view_name": "LayoutView",
            "align_content": null,
            "align_items": null,
            "align_self": null,
            "border": null,
            "bottom": null,
            "display": null,
            "flex": null,
            "flex_flow": null,
            "grid_area": null,
            "grid_auto_columns": null,
            "grid_auto_flow": null,
            "grid_auto_rows": null,
            "grid_column": null,
            "grid_gap": null,
            "grid_row": null,
            "grid_template_areas": null,
            "grid_template_columns": null,
            "grid_template_rows": null,
            "height": null,
            "justify_content": null,
            "justify_items": null,
            "left": null,
            "margin": null,
            "max_height": null,
            "max_width": null,
            "min_height": null,
            "min_width": null,
            "object_fit": null,
            "object_position": null,
            "order": null,
            "overflow": null,
            "overflow_x": null,
            "overflow_y": null,
            "padding": null,
            "right": null,
            "top": null,
            "visibility": null,
            "width": null
          }
        },
        "109778c37fa246caa663023378821240": {
          "model_module": "@jupyter-widgets/controls",
          "model_name": "DescriptionStyleModel",
          "model_module_version": "1.5.0",
          "state": {
            "_model_module": "@jupyter-widgets/controls",
            "_model_module_version": "1.5.0",
            "_model_name": "DescriptionStyleModel",
            "_view_count": null,
            "_view_module": "@jupyter-widgets/base",
            "_view_module_version": "1.2.0",
            "_view_name": "StyleView",
            "description_width": ""
          }
        },
        "602763406da6413eaca2ce2c8afc731e": {
          "model_module": "@jupyter-widgets/base",
          "model_name": "LayoutModel",
          "model_module_version": "1.2.0",
          "state": {
            "_model_module": "@jupyter-widgets/base",
            "_model_module_version": "1.2.0",
            "_model_name": "LayoutModel",
            "_view_count": null,
            "_view_module": "@jupyter-widgets/base",
            "_view_module_version": "1.2.0",
            "_view_name": "LayoutView",
            "align_content": null,
            "align_items": null,
            "align_self": null,
            "border": null,
            "bottom": null,
            "display": null,
            "flex": null,
            "flex_flow": null,
            "grid_area": null,
            "grid_auto_columns": null,
            "grid_auto_flow": null,
            "grid_auto_rows": null,
            "grid_column": null,
            "grid_gap": null,
            "grid_row": null,
            "grid_template_areas": null,
            "grid_template_columns": null,
            "grid_template_rows": null,
            "height": null,
            "justify_content": null,
            "justify_items": null,
            "left": null,
            "margin": null,
            "max_height": null,
            "max_width": null,
            "min_height": null,
            "min_width": null,
            "object_fit": null,
            "object_position": null,
            "order": null,
            "overflow": null,
            "overflow_x": null,
            "overflow_y": null,
            "padding": null,
            "right": null,
            "top": null,
            "visibility": null,
            "width": null
          }
        },
        "d395f0c35f5747f58c2f21f6be3f3b90": {
          "model_module": "@jupyter-widgets/controls",
          "model_name": "ProgressStyleModel",
          "model_module_version": "1.5.0",
          "state": {
            "_model_module": "@jupyter-widgets/controls",
            "_model_module_version": "1.5.0",
            "_model_name": "ProgressStyleModel",
            "_view_count": null,
            "_view_module": "@jupyter-widgets/base",
            "_view_module_version": "1.2.0",
            "_view_name": "StyleView",
            "bar_color": null,
            "description_width": ""
          }
        },
        "edc9b2b3e8d847b29976be23259444e4": {
          "model_module": "@jupyter-widgets/base",
          "model_name": "LayoutModel",
          "model_module_version": "1.2.0",
          "state": {
            "_model_module": "@jupyter-widgets/base",
            "_model_module_version": "1.2.0",
            "_model_name": "LayoutModel",
            "_view_count": null,
            "_view_module": "@jupyter-widgets/base",
            "_view_module_version": "1.2.0",
            "_view_name": "LayoutView",
            "align_content": null,
            "align_items": null,
            "align_self": null,
            "border": null,
            "bottom": null,
            "display": null,
            "flex": null,
            "flex_flow": null,
            "grid_area": null,
            "grid_auto_columns": null,
            "grid_auto_flow": null,
            "grid_auto_rows": null,
            "grid_column": null,
            "grid_gap": null,
            "grid_row": null,
            "grid_template_areas": null,
            "grid_template_columns": null,
            "grid_template_rows": null,
            "height": null,
            "justify_content": null,
            "justify_items": null,
            "left": null,
            "margin": null,
            "max_height": null,
            "max_width": null,
            "min_height": null,
            "min_width": null,
            "object_fit": null,
            "object_position": null,
            "order": null,
            "overflow": null,
            "overflow_x": null,
            "overflow_y": null,
            "padding": null,
            "right": null,
            "top": null,
            "visibility": null,
            "width": null
          }
        },
        "39eeba52b6b0464097e8fc578d3e9816": {
          "model_module": "@jupyter-widgets/controls",
          "model_name": "DescriptionStyleModel",
          "model_module_version": "1.5.0",
          "state": {
            "_model_module": "@jupyter-widgets/controls",
            "_model_module_version": "1.5.0",
            "_model_name": "DescriptionStyleModel",
            "_view_count": null,
            "_view_module": "@jupyter-widgets/base",
            "_view_module_version": "1.2.0",
            "_view_name": "StyleView",
            "description_width": ""
          }
        }
      }
    }
  },
  "cells": [
    {
      "cell_type": "markdown",
      "source": [
        "##Preliminaries for the SCM part"
      ],
      "metadata": {
        "id": "hdTpEkPA9Geq"
      }
    },
    {
      "cell_type": "markdown",
      "source": [
        "Import useful libraries"
      ],
      "metadata": {
        "id": "uM-2vOphSfgr"
      }
    },
    {
      "cell_type": "code",
      "source": [
        "!pip install dowhy\n",
        "!apt install libgraphviz-dev\n",
        "!pip install pygraphviz"
      ],
      "metadata": {
        "id": "bPwUbDwYD4Z4",
        "colab": {
          "base_uri": "https://localhost:8080/"
        },
        "outputId": "dd37170a-bfa6-4e70-e24b-87cbd5f7c686"
      },
      "execution_count": null,
      "outputs": [
        {
          "output_type": "stream",
          "name": "stdout",
          "text": [
            "Collecting dowhy\n",
            "  Downloading dowhy-0.11.1-py3-none-any.whl (383 kB)\n",
            "\u001b[2K     \u001b[90m━━━━━━━━━━━━━━━━━━━━━━━━━━━━━━━━━━━━━━━━\u001b[0m \u001b[32m383.4/383.4 kB\u001b[0m \u001b[31m5.0 MB/s\u001b[0m eta \u001b[36m0:00:00\u001b[0m\n",
            "\u001b[?25hCollecting causal-learn>=0.1.3.0 (from dowhy)\n",
            "  Downloading causal_learn-0.1.3.8-py3-none-any.whl (174 kB)\n",
            "\u001b[2K     \u001b[90m━━━━━━━━━━━━━━━━━━━━━━━━━━━━━━━━━━━━━━━━\u001b[0m \u001b[32m174.5/174.5 kB\u001b[0m \u001b[31m10.2 MB/s\u001b[0m eta \u001b[36m0:00:00\u001b[0m\n",
            "\u001b[?25hRequirement already satisfied: cvxpy<2.0.0,>=1.2.2 in /usr/local/lib/python3.10/dist-packages (from dowhy) (1.3.4)\n",
            "Requirement already satisfied: cython>=0.29.32 in /usr/local/lib/python3.10/dist-packages (from dowhy) (3.0.10)\n",
            "Requirement already satisfied: joblib>=1.1.0 in /usr/local/lib/python3.10/dist-packages (from dowhy) (1.4.2)\n",
            "Requirement already satisfied: networkx>=2.8.5 in /usr/local/lib/python3.10/dist-packages (from dowhy) (3.3)\n",
            "Requirement already satisfied: numpy>=1.20 in /usr/local/lib/python3.10/dist-packages (from dowhy) (1.25.2)\n",
            "Requirement already satisfied: pandas>=1.4.3 in /usr/local/lib/python3.10/dist-packages (from dowhy) (2.0.3)\n",
            "Requirement already satisfied: scikit-learn>1.0 in /usr/local/lib/python3.10/dist-packages (from dowhy) (1.2.2)\n",
            "Requirement already satisfied: scipy>=1.4.1 in /usr/local/lib/python3.10/dist-packages (from dowhy) (1.11.4)\n",
            "Requirement already satisfied: statsmodels>=0.13.5 in /usr/local/lib/python3.10/dist-packages (from dowhy) (0.14.2)\n",
            "Requirement already satisfied: sympy>=1.10.1 in /usr/local/lib/python3.10/dist-packages (from dowhy) (1.12)\n",
            "Requirement already satisfied: tqdm>=4.64.0 in /usr/local/lib/python3.10/dist-packages (from dowhy) (4.66.4)\n",
            "Requirement already satisfied: graphviz in /usr/local/lib/python3.10/dist-packages (from causal-learn>=0.1.3.0->dowhy) (0.20.3)\n",
            "Requirement already satisfied: matplotlib in /usr/local/lib/python3.10/dist-packages (from causal-learn>=0.1.3.0->dowhy) (3.7.1)\n",
            "Requirement already satisfied: pydot in /usr/local/lib/python3.10/dist-packages (from causal-learn>=0.1.3.0->dowhy) (1.4.2)\n",
            "Requirement already satisfied: osqp>=0.4.1 in /usr/local/lib/python3.10/dist-packages (from cvxpy<2.0.0,>=1.2.2->dowhy) (0.6.2.post8)\n",
            "Requirement already satisfied: ecos>=2 in /usr/local/lib/python3.10/dist-packages (from cvxpy<2.0.0,>=1.2.2->dowhy) (2.0.13)\n",
            "Requirement already satisfied: scs>=1.1.6 in /usr/local/lib/python3.10/dist-packages (from cvxpy<2.0.0,>=1.2.2->dowhy) (3.2.4.post1)\n",
            "Requirement already satisfied: setuptools>65.5.1 in /usr/local/lib/python3.10/dist-packages (from cvxpy<2.0.0,>=1.2.2->dowhy) (67.7.2)\n",
            "Requirement already satisfied: python-dateutil>=2.8.2 in /usr/local/lib/python3.10/dist-packages (from pandas>=1.4.3->dowhy) (2.8.2)\n",
            "Requirement already satisfied: pytz>=2020.1 in /usr/local/lib/python3.10/dist-packages (from pandas>=1.4.3->dowhy) (2023.4)\n",
            "Requirement already satisfied: tzdata>=2022.1 in /usr/local/lib/python3.10/dist-packages (from pandas>=1.4.3->dowhy) (2024.1)\n",
            "Requirement already satisfied: threadpoolctl>=2.0.0 in /usr/local/lib/python3.10/dist-packages (from scikit-learn>1.0->dowhy) (3.5.0)\n",
            "Requirement already satisfied: patsy>=0.5.6 in /usr/local/lib/python3.10/dist-packages (from statsmodels>=0.13.5->dowhy) (0.5.6)\n",
            "Requirement already satisfied: packaging>=21.3 in /usr/local/lib/python3.10/dist-packages (from statsmodels>=0.13.5->dowhy) (24.0)\n",
            "Requirement already satisfied: mpmath>=0.19 in /usr/local/lib/python3.10/dist-packages (from sympy>=1.10.1->dowhy) (1.3.0)\n",
            "Requirement already satisfied: qdldl in /usr/local/lib/python3.10/dist-packages (from osqp>=0.4.1->cvxpy<2.0.0,>=1.2.2->dowhy) (0.1.7.post2)\n",
            "Requirement already satisfied: six in /usr/local/lib/python3.10/dist-packages (from patsy>=0.5.6->statsmodels>=0.13.5->dowhy) (1.16.0)\n",
            "Requirement already satisfied: contourpy>=1.0.1 in /usr/local/lib/python3.10/dist-packages (from matplotlib->causal-learn>=0.1.3.0->dowhy) (1.2.1)\n",
            "Requirement already satisfied: cycler>=0.10 in /usr/local/lib/python3.10/dist-packages (from matplotlib->causal-learn>=0.1.3.0->dowhy) (0.12.1)\n",
            "Requirement already satisfied: fonttools>=4.22.0 in /usr/local/lib/python3.10/dist-packages (from matplotlib->causal-learn>=0.1.3.0->dowhy) (4.51.0)\n",
            "Requirement already satisfied: kiwisolver>=1.0.1 in /usr/local/lib/python3.10/dist-packages (from matplotlib->causal-learn>=0.1.3.0->dowhy) (1.4.5)\n",
            "Requirement already satisfied: pillow>=6.2.0 in /usr/local/lib/python3.10/dist-packages (from matplotlib->causal-learn>=0.1.3.0->dowhy) (9.4.0)\n",
            "Requirement already satisfied: pyparsing>=2.3.1 in /usr/local/lib/python3.10/dist-packages (from matplotlib->causal-learn>=0.1.3.0->dowhy) (3.1.2)\n",
            "Installing collected packages: causal-learn, dowhy\n",
            "Successfully installed causal-learn-0.1.3.8 dowhy-0.11.1\n",
            "Reading package lists... Done\n",
            "Building dependency tree... Done\n",
            "Reading state information... Done\n",
            "The following additional packages will be installed:\n",
            "  libgail-common libgail18 libgtk2.0-0 libgtk2.0-bin libgtk2.0-common libgvc6-plugins-gtk\n",
            "  librsvg2-common libxdot4\n",
            "Suggested packages:\n",
            "  gvfs\n",
            "The following NEW packages will be installed:\n",
            "  libgail-common libgail18 libgraphviz-dev libgtk2.0-0 libgtk2.0-bin libgtk2.0-common\n",
            "  libgvc6-plugins-gtk librsvg2-common libxdot4\n",
            "0 upgraded, 9 newly installed, 0 to remove and 45 not upgraded.\n",
            "Need to get 2,433 kB of archives.\n",
            "After this operation, 7,694 kB of additional disk space will be used.\n",
            "Get:1 http://archive.ubuntu.com/ubuntu jammy/main amd64 libgtk2.0-common all 2.24.33-2ubuntu2 [125 kB]\n",
            "Get:2 http://archive.ubuntu.com/ubuntu jammy/main amd64 libgtk2.0-0 amd64 2.24.33-2ubuntu2 [2,037 kB]\n",
            "Get:3 http://archive.ubuntu.com/ubuntu jammy/main amd64 libgail18 amd64 2.24.33-2ubuntu2 [15.9 kB]\n",
            "Get:4 http://archive.ubuntu.com/ubuntu jammy/main amd64 libgail-common amd64 2.24.33-2ubuntu2 [132 kB]\n",
            "Get:5 http://archive.ubuntu.com/ubuntu jammy/universe amd64 libxdot4 amd64 2.42.2-6 [16.4 kB]\n",
            "Get:6 http://archive.ubuntu.com/ubuntu jammy/universe amd64 libgvc6-plugins-gtk amd64 2.42.2-6 [22.6 kB]\n",
            "Get:7 http://archive.ubuntu.com/ubuntu jammy/universe amd64 libgraphviz-dev amd64 2.42.2-6 [58.5 kB]\n",
            "Get:8 http://archive.ubuntu.com/ubuntu jammy/main amd64 libgtk2.0-bin amd64 2.24.33-2ubuntu2 [7,932 B]\n",
            "Get:9 http://archive.ubuntu.com/ubuntu jammy-updates/main amd64 librsvg2-common amd64 2.52.5+dfsg-3ubuntu0.2 [17.7 kB]\n",
            "Fetched 2,433 kB in 2s (1,197 kB/s)\n",
            "Selecting previously unselected package libgtk2.0-common.\n",
            "(Reading database ... 121918 files and directories currently installed.)\n",
            "Preparing to unpack .../0-libgtk2.0-common_2.24.33-2ubuntu2_all.deb ...\n",
            "Unpacking libgtk2.0-common (2.24.33-2ubuntu2) ...\n",
            "Selecting previously unselected package libgtk2.0-0:amd64.\n",
            "Preparing to unpack .../1-libgtk2.0-0_2.24.33-2ubuntu2_amd64.deb ...\n",
            "Unpacking libgtk2.0-0:amd64 (2.24.33-2ubuntu2) ...\n",
            "Selecting previously unselected package libgail18:amd64.\n",
            "Preparing to unpack .../2-libgail18_2.24.33-2ubuntu2_amd64.deb ...\n",
            "Unpacking libgail18:amd64 (2.24.33-2ubuntu2) ...\n",
            "Selecting previously unselected package libgail-common:amd64.\n",
            "Preparing to unpack .../3-libgail-common_2.24.33-2ubuntu2_amd64.deb ...\n",
            "Unpacking libgail-common:amd64 (2.24.33-2ubuntu2) ...\n",
            "Selecting previously unselected package libxdot4:amd64.\n",
            "Preparing to unpack .../4-libxdot4_2.42.2-6_amd64.deb ...\n",
            "Unpacking libxdot4:amd64 (2.42.2-6) ...\n",
            "Selecting previously unselected package libgvc6-plugins-gtk.\n",
            "Preparing to unpack .../5-libgvc6-plugins-gtk_2.42.2-6_amd64.deb ...\n",
            "Unpacking libgvc6-plugins-gtk (2.42.2-6) ...\n",
            "Selecting previously unselected package libgraphviz-dev:amd64.\n",
            "Preparing to unpack .../6-libgraphviz-dev_2.42.2-6_amd64.deb ...\n",
            "Unpacking libgraphviz-dev:amd64 (2.42.2-6) ...\n",
            "Selecting previously unselected package libgtk2.0-bin.\n",
            "Preparing to unpack .../7-libgtk2.0-bin_2.24.33-2ubuntu2_amd64.deb ...\n",
            "Unpacking libgtk2.0-bin (2.24.33-2ubuntu2) ...\n",
            "Selecting previously unselected package librsvg2-common:amd64.\n",
            "Preparing to unpack .../8-librsvg2-common_2.52.5+dfsg-3ubuntu0.2_amd64.deb ...\n",
            "Unpacking librsvg2-common:amd64 (2.52.5+dfsg-3ubuntu0.2) ...\n",
            "Setting up libxdot4:amd64 (2.42.2-6) ...\n",
            "Setting up librsvg2-common:amd64 (2.52.5+dfsg-3ubuntu0.2) ...\n",
            "Setting up libgtk2.0-common (2.24.33-2ubuntu2) ...\n",
            "Setting up libgtk2.0-0:amd64 (2.24.33-2ubuntu2) ...\n",
            "Setting up libgvc6-plugins-gtk (2.42.2-6) ...\n",
            "Setting up libgail18:amd64 (2.24.33-2ubuntu2) ...\n",
            "Setting up libgtk2.0-bin (2.24.33-2ubuntu2) ...\n",
            "Setting up libgail-common:amd64 (2.24.33-2ubuntu2) ...\n",
            "Setting up libgraphviz-dev:amd64 (2.42.2-6) ...\n",
            "Processing triggers for libc-bin (2.35-0ubuntu3.4) ...\n",
            "/sbin/ldconfig.real: /usr/local/lib/libtbb.so.12 is not a symbolic link\n",
            "\n",
            "/sbin/ldconfig.real: /usr/local/lib/libtbbbind_2_0.so.3 is not a symbolic link\n",
            "\n",
            "/sbin/ldconfig.real: /usr/local/lib/libtbbmalloc.so.2 is not a symbolic link\n",
            "\n",
            "/sbin/ldconfig.real: /usr/local/lib/libtbbbind.so.3 is not a symbolic link\n",
            "\n",
            "/sbin/ldconfig.real: /usr/local/lib/libtbbmalloc_proxy.so.2 is not a symbolic link\n",
            "\n",
            "/sbin/ldconfig.real: /usr/local/lib/libtbbbind_2_5.so.3 is not a symbolic link\n",
            "\n",
            "Processing triggers for man-db (2.10.2-1) ...\n",
            "Processing triggers for libgdk-pixbuf-2.0-0:amd64 (2.42.8+dfsg-1ubuntu0.2) ...\n",
            "Collecting pygraphviz\n",
            "  Downloading pygraphviz-1.13.tar.gz (104 kB)\n",
            "\u001b[2K     \u001b[90m━━━━━━━━━━━━━━━━━━━━━━━━━━━━━━━━━━━━━━━━\u001b[0m \u001b[32m104.6/104.6 kB\u001b[0m \u001b[31m3.0 MB/s\u001b[0m eta \u001b[36m0:00:00\u001b[0m\n",
            "\u001b[?25h  Installing build dependencies ... \u001b[?25l\u001b[?25hdone\n",
            "  Getting requirements to build wheel ... \u001b[?25l\u001b[?25hdone\n",
            "  Installing backend dependencies ... \u001b[?25l\u001b[?25hdone\n",
            "  Preparing metadata (pyproject.toml) ... \u001b[?25l\u001b[?25hdone\n",
            "Building wheels for collected packages: pygraphviz\n",
            "  Building wheel for pygraphviz (pyproject.toml) ... \u001b[?25l\u001b[?25hdone\n",
            "  Created wheel for pygraphviz: filename=pygraphviz-1.13-cp310-cp310-linux_x86_64.whl size=168496 sha256=5f4489f3877c3ca41010eddf55322f5b6cbee9276a03949cd7eeaa77aaccc7e8\n",
            "  Stored in directory: /root/.cache/pip/wheels/c5/96/10/6c25add1fffc368b1927252bf73b63fcb938de8f4486e23691\n",
            "Successfully built pygraphviz\n",
            "Installing collected packages: pygraphviz\n",
            "Successfully installed pygraphviz-1.13\n"
          ]
        }
      ]
    },
    {
      "cell_type": "code",
      "execution_count": null,
      "metadata": {
        "id": "BtEgA6aw-TqW"
      },
      "outputs": [],
      "source": [
        "import numpy as np\n",
        "import random\n",
        "from scipy import stats\n",
        "import time\n",
        "from collections import defaultdict\n",
        "import warnings\n",
        "from scipy.stats import rankdata\n",
        "import networkx as nx\n",
        "import matplotlib.pyplot as plt\n",
        "import pandas as pd\n",
        "import dowhy\n",
        "from dowhy import CausalModel\n",
        "import graphviz as gr\n",
        "import pygraphviz"
      ]
    },
    {
      "cell_type": "markdown",
      "source": [
        "Useful functions for the SCM part"
      ],
      "metadata": {
        "id": "SiKYFyClb8Hp"
      }
    },
    {
      "cell_type": "code",
      "source": [
        "def same(x):\n",
        "    return x\n",
        "\n",
        "def cube(x):\n",
        "    return np.power(x, 3)\n",
        "\n",
        "def negexp(x):\n",
        "    return np.exp(-np.abs(x))"
      ],
      "metadata": {
        "id": "oMKAWtKJb-rK"
      },
      "execution_count": null,
      "outputs": []
    },
    {
      "cell_type": "markdown",
      "source": [
        "##Preliminaries for the estimation of effects parts"
      ],
      "metadata": {
        "id": "6AXsKkPNHfux"
      }
    },
    {
      "cell_type": "markdown",
      "source": [
        "Install the shap library"
      ],
      "metadata": {
        "id": "qd4ZurVsHvA8"
      }
    },
    {
      "cell_type": "code",
      "source": [
        "!pip install shap"
      ],
      "metadata": {
        "colab": {
          "base_uri": "https://localhost:8080/"
        },
        "id": "7-RnGBG3HpCR",
        "outputId": "ffbfd69c-d9a0-4c93-c727-5749aa74dd80"
      },
      "execution_count": null,
      "outputs": [
        {
          "output_type": "stream",
          "name": "stdout",
          "text": [
            "Collecting shap\n",
            "  Downloading shap-0.45.1-cp310-cp310-manylinux_2_12_x86_64.manylinux2010_x86_64.manylinux_2_17_x86_64.manylinux2014_x86_64.whl (540 kB)\n",
            "\u001b[2K     \u001b[90m━━━━━━━━━━━━━━━━━━━━━━━━━━━━━━━━━━━━━━━━\u001b[0m \u001b[32m540.5/540.5 kB\u001b[0m \u001b[31m5.7 MB/s\u001b[0m eta \u001b[36m0:00:00\u001b[0m\n",
            "\u001b[?25hRequirement already satisfied: numpy in /usr/local/lib/python3.10/dist-packages (from shap) (1.25.2)\n",
            "Requirement already satisfied: scipy in /usr/local/lib/python3.10/dist-packages (from shap) (1.11.4)\n",
            "Requirement already satisfied: scikit-learn in /usr/local/lib/python3.10/dist-packages (from shap) (1.2.2)\n",
            "Requirement already satisfied: pandas in /usr/local/lib/python3.10/dist-packages (from shap) (2.0.3)\n",
            "Requirement already satisfied: tqdm>=4.27.0 in /usr/local/lib/python3.10/dist-packages (from shap) (4.66.4)\n",
            "Requirement already satisfied: packaging>20.9 in /usr/local/lib/python3.10/dist-packages (from shap) (24.0)\n",
            "Collecting slicer==0.0.8 (from shap)\n",
            "  Downloading slicer-0.0.8-py3-none-any.whl (15 kB)\n",
            "Requirement already satisfied: numba in /usr/local/lib/python3.10/dist-packages (from shap) (0.58.1)\n",
            "Requirement already satisfied: cloudpickle in /usr/local/lib/python3.10/dist-packages (from shap) (2.2.1)\n",
            "Requirement already satisfied: llvmlite<0.42,>=0.41.0dev0 in /usr/local/lib/python3.10/dist-packages (from numba->shap) (0.41.1)\n",
            "Requirement already satisfied: python-dateutil>=2.8.2 in /usr/local/lib/python3.10/dist-packages (from pandas->shap) (2.8.2)\n",
            "Requirement already satisfied: pytz>=2020.1 in /usr/local/lib/python3.10/dist-packages (from pandas->shap) (2023.4)\n",
            "Requirement already satisfied: tzdata>=2022.1 in /usr/local/lib/python3.10/dist-packages (from pandas->shap) (2024.1)\n",
            "Requirement already satisfied: joblib>=1.1.1 in /usr/local/lib/python3.10/dist-packages (from scikit-learn->shap) (1.4.2)\n",
            "Requirement already satisfied: threadpoolctl>=2.0.0 in /usr/local/lib/python3.10/dist-packages (from scikit-learn->shap) (3.5.0)\n",
            "Requirement already satisfied: six>=1.5 in /usr/local/lib/python3.10/dist-packages (from python-dateutil>=2.8.2->pandas->shap) (1.16.0)\n",
            "Installing collected packages: slicer, shap\n",
            "Successfully installed shap-0.45.1 slicer-0.0.8\n"
          ]
        }
      ]
    },
    {
      "cell_type": "markdown",
      "source": [
        "Import useful librairies"
      ],
      "metadata": {
        "id": "UoibNiILHkzp"
      }
    },
    {
      "cell_type": "code",
      "source": [
        "from sklearn.ensemble import RandomForestRegressor\n",
        "from sklearn.model_selection import train_test_split\n",
        "from sklearn.metrics import mean_squared_error\n",
        "from sklearn.linear_model import LinearRegression\n",
        "from sklearn.neural_network import MLPRegressor\n",
        "import shap"
      ],
      "metadata": {
        "id": "NTQ-CHfiHkGN"
      },
      "execution_count": null,
      "outputs": []
    },
    {
      "cell_type": "markdown",
      "source": [
        "## **Exercise 1**"
      ],
      "metadata": {
        "id": "hIyVfVYeFPsy"
      }
    },
    {
      "cell_type": "markdown",
      "source": [
        "### **Intervention and counterfactual through an example**"
      ],
      "metadata": {
        "id": "pcsmf76ndkqN"
      }
    },
    {
      "cell_type": "markdown",
      "source": [
        "We simulate an example\n",
        "$$T=f_1(a_1\\cdot X+\\varepsilon_1)$$\n",
        "$$Y=f_2(a_2\\cdot T+ b_2\\cdot X+\\varepsilon_2)$$\n",
        "where $X,\\varepsilon_1,\\varepsilon_2$ are independent random variables whose distribution is known"
      ],
      "metadata": {
        "id": "PKSS_KTCkIJl"
      }
    },
    {
      "cell_type": "code",
      "source": [
        "g = gr.Digraph()\n",
        "g.edge(\"X\", \"T\"), g.edge(\"T\", \"Y\"), g.edge(\"X\", \"Y\")\n",
        "g"
      ],
      "metadata": {
        "colab": {
          "base_uri": "https://localhost:8080/",
          "height": 272
        },
        "id": "fZeQZQoNeZ_9",
        "outputId": "035c9543-17c9-499c-dc8b-4d7affe4cbb4"
      },
      "execution_count": null,
      "outputs": [
        {
          "output_type": "execute_result",
          "data": {
            "image/svg+xml": "<?xml version=\"1.0\" encoding=\"UTF-8\" standalone=\"no\"?>\n<!DOCTYPE svg PUBLIC \"-//W3C//DTD SVG 1.1//EN\"\n \"http://www.w3.org/Graphics/SVG/1.1/DTD/svg11.dtd\">\n<!-- Generated by graphviz version 2.43.0 (0)\n -->\n<!-- Title: %3 Pages: 1 -->\n<svg width=\"89pt\" height=\"188pt\"\n viewBox=\"0.00 0.00 89.00 188.00\" xmlns=\"http://www.w3.org/2000/svg\" xmlns:xlink=\"http://www.w3.org/1999/xlink\">\n<g id=\"graph0\" class=\"graph\" transform=\"scale(1 1) rotate(0) translate(4 184)\">\n<title>%3</title>\n<polygon fill=\"white\" stroke=\"transparent\" points=\"-4,4 -4,-184 85,-184 85,4 -4,4\"/>\n<!-- X -->\n<g id=\"node1\" class=\"node\">\n<title>X</title>\n<ellipse fill=\"none\" stroke=\"black\" cx=\"54\" cy=\"-162\" rx=\"27\" ry=\"18\"/>\n<text text-anchor=\"middle\" x=\"54\" y=\"-158.3\" font-family=\"Times,serif\" font-size=\"14.00\">X</text>\n</g>\n<!-- T -->\n<g id=\"node2\" class=\"node\">\n<title>T</title>\n<ellipse fill=\"none\" stroke=\"black\" cx=\"27\" cy=\"-90\" rx=\"27\" ry=\"18\"/>\n<text text-anchor=\"middle\" x=\"27\" y=\"-86.3\" font-family=\"Times,serif\" font-size=\"14.00\">T</text>\n</g>\n<!-- X&#45;&gt;T -->\n<g id=\"edge1\" class=\"edge\">\n<title>X&#45;&gt;T</title>\n<path fill=\"none\" stroke=\"black\" d=\"M47.6,-144.41C44.49,-136.34 40.67,-126.43 37.17,-117.35\"/>\n<polygon fill=\"black\" stroke=\"black\" points=\"40.4,-116.03 33.54,-107.96 33.87,-118.55 40.4,-116.03\"/>\n</g>\n<!-- Y -->\n<g id=\"node3\" class=\"node\">\n<title>Y</title>\n<ellipse fill=\"none\" stroke=\"black\" cx=\"54\" cy=\"-18\" rx=\"27\" ry=\"18\"/>\n<text text-anchor=\"middle\" x=\"54\" y=\"-14.3\" font-family=\"Times,serif\" font-size=\"14.00\">Y</text>\n</g>\n<!-- X&#45;&gt;Y -->\n<g id=\"edge3\" class=\"edge\">\n<title>X&#45;&gt;Y</title>\n<path fill=\"none\" stroke=\"black\" d=\"M57.65,-143.91C59.68,-133.57 61.98,-120.09 63,-108 64.34,-92.06 64.34,-87.94 63,-72 62.28,-63.5 60.93,-54.31 59.49,-46.01\"/>\n<polygon fill=\"black\" stroke=\"black\" points=\"62.91,-45.29 57.65,-36.09 56.03,-46.56 62.91,-45.29\"/>\n</g>\n<!-- T&#45;&gt;Y -->\n<g id=\"edge2\" class=\"edge\">\n<title>T&#45;&gt;Y</title>\n<path fill=\"none\" stroke=\"black\" d=\"M33.4,-72.41C36.51,-64.34 40.33,-54.43 43.83,-45.35\"/>\n<polygon fill=\"black\" stroke=\"black\" points=\"47.13,-46.55 47.46,-35.96 40.6,-44.03 47.13,-46.55\"/>\n</g>\n</g>\n</svg>\n",
            "text/plain": [
              "<graphviz.graphs.Digraph at 0x7c27bdbbbd00>"
            ]
          },
          "metadata": {},
          "execution_count": 7
        }
      ]
    },
    {
      "cell_type": "markdown",
      "source": [
        "**Q1-Generate the SCM**"
      ],
      "metadata": {
        "id": "lhP0ZxCqei1v"
      }
    },
    {
      "cell_type": "code",
      "source": [
        "def same(x):\n",
        "    return x\n",
        "\n",
        "def carre(x):\n",
        "    return np.power(x, 2)\n",
        "\n",
        "def cube(x):\n",
        "    return np.power(x, 3)\n",
        "\n",
        "def negexp(x):\n",
        "    return np.exp(-np.abs(x))"
      ],
      "metadata": {
        "id": "1Bp9EuauLrz9"
      },
      "execution_count": null,
      "outputs": []
    },
    {
      "cell_type": "code",
      "source": [
        "def generate_samples(size,fixed_function1,fixed_function2, dist_x,dx,a1,a2,b2,nstd,seed = None,normalize=True):\n",
        "    '''Generate independent post-nonlinear samples\n",
        "    Arguments:\n",
        "        size : number of samples\n",
        "        f1, f2 to be within {x,x^2,x^3,tanh x, e^{-|x|}, cos x}\n",
        "    Output:\n",
        "        Samples X,T,Y\n",
        "    '''\n",
        "    if seed == None:\n",
        "        np.random.seed()\n",
        "    else:\n",
        "        np.random.seed(seed)\n",
        "\n",
        "    if fixed_function1 == 'linear':\n",
        "      f1 = same\n",
        "    elif fixed_function1=='carre':\n",
        "      f1 = np.square\n",
        "    elif fixed_function1=='cube':\n",
        "      f1 = cube\n",
        "    elif fixed_function1=='negexp':\n",
        "      f1 = negexp\n",
        "    else:\n",
        "      f1 = np.cos\n",
        "\n",
        "    if fixed_function2 == 'linear':\n",
        "      f2= same\n",
        "    elif fixed_function2=='carre':\n",
        "      f2 = np.square\n",
        "    elif fixed_function2=='cube':\n",
        "      f2 = cube\n",
        "    elif fixed_function2=='negexp':\n",
        "      f2 = negexp\n",
        "    else:\n",
        "      f2 = np.cos\n",
        "\n",
        "    if dist_x =='gaussian':\n",
        "        cov = np.eye(dx)\n",
        "        mu = np.ones(dx)\n",
        "        X = np.random.multivariate_normal(mu, cov, size)\n",
        "\n",
        "    elif dist_x == 'laplace':\n",
        "        X = np.random.laplace(loc=0.0, scale=1.0, size=size*dx)\n",
        "        if (dx!=1):\n",
        "          X = np.reshape(X,(size,dx))\n",
        "\n",
        "    T = f1(np.dot(a1,X)+nstd * np.random.normal(0, 1, size))\n",
        "    Y = f2(np.dot(a2,T)+b2*X+nstd * np.random.normal(0, 1, size))\n",
        "\n",
        "    if normalize == True:\n",
        "        X = (X - X.min()) / (X.max() - X.min())\n",
        "        T = (T - T.min()) / (T.max() - T.min())\n",
        "        Y = (Y - Y.min()) / (Y.max() - Y.min())\n",
        "\n",
        "    return [X,T,Y]"
      ],
      "metadata": {
        "id": "SragRVpULm_k"
      },
      "execution_count": null,
      "outputs": []
    },
    {
      "cell_type": "code",
      "source": [
        "[X,T,Y]=generate_samples(100,'cube','carre', 'gaussian',1,1.0,2.0,1.0,1.0,43)\n",
        "df_mediator=pd.DataFrame({'X':X[:,0],'T':T[:,0],'Y':Y[:,0]})\n",
        "df_mediator"
      ],
      "metadata": {
        "colab": {
          "base_uri": "https://localhost:8080/",
          "height": 424
        },
        "id": "8gLqdtnVLwZ3",
        "outputId": "0b726c08-b32e-482b-bb8e-2b7462d19f1f"
      },
      "execution_count": null,
      "outputs": [
        {
          "output_type": "execute_result",
          "data": {
            "text/plain": [
              "           X         T         Y\n",
              "0   0.534263  0.260569  0.000540\n",
              "1   0.263968  0.249165  0.000028\n",
              "2   0.386837  0.251142  0.000085\n",
              "3   0.350574  0.250173  0.000057\n",
              "4   0.673522  0.281381  0.002728\n",
              "..       ...       ...       ...\n",
              "95  0.423019  0.252553  0.000132\n",
              "96  0.497060  0.257181  0.000337\n",
              "97  0.430913  0.252929  0.000145\n",
              "98  0.843581  0.329592  0.013870\n",
              "99  0.610401  0.270197  0.001352\n",
              "\n",
              "[100 rows x 3 columns]"
            ],
            "text/html": [
              "\n",
              "  <div id=\"df-981f470a-8b6a-4522-9236-a18072f6b7d1\" class=\"colab-df-container\">\n",
              "    <div>\n",
              "<style scoped>\n",
              "    .dataframe tbody tr th:only-of-type {\n",
              "        vertical-align: middle;\n",
              "    }\n",
              "\n",
              "    .dataframe tbody tr th {\n",
              "        vertical-align: top;\n",
              "    }\n",
              "\n",
              "    .dataframe thead th {\n",
              "        text-align: right;\n",
              "    }\n",
              "</style>\n",
              "<table border=\"1\" class=\"dataframe\">\n",
              "  <thead>\n",
              "    <tr style=\"text-align: right;\">\n",
              "      <th></th>\n",
              "      <th>X</th>\n",
              "      <th>T</th>\n",
              "      <th>Y</th>\n",
              "    </tr>\n",
              "  </thead>\n",
              "  <tbody>\n",
              "    <tr>\n",
              "      <th>0</th>\n",
              "      <td>0.534263</td>\n",
              "      <td>0.260569</td>\n",
              "      <td>0.000540</td>\n",
              "    </tr>\n",
              "    <tr>\n",
              "      <th>1</th>\n",
              "      <td>0.263968</td>\n",
              "      <td>0.249165</td>\n",
              "      <td>0.000028</td>\n",
              "    </tr>\n",
              "    <tr>\n",
              "      <th>2</th>\n",
              "      <td>0.386837</td>\n",
              "      <td>0.251142</td>\n",
              "      <td>0.000085</td>\n",
              "    </tr>\n",
              "    <tr>\n",
              "      <th>3</th>\n",
              "      <td>0.350574</td>\n",
              "      <td>0.250173</td>\n",
              "      <td>0.000057</td>\n",
              "    </tr>\n",
              "    <tr>\n",
              "      <th>4</th>\n",
              "      <td>0.673522</td>\n",
              "      <td>0.281381</td>\n",
              "      <td>0.002728</td>\n",
              "    </tr>\n",
              "    <tr>\n",
              "      <th>...</th>\n",
              "      <td>...</td>\n",
              "      <td>...</td>\n",
              "      <td>...</td>\n",
              "    </tr>\n",
              "    <tr>\n",
              "      <th>95</th>\n",
              "      <td>0.423019</td>\n",
              "      <td>0.252553</td>\n",
              "      <td>0.000132</td>\n",
              "    </tr>\n",
              "    <tr>\n",
              "      <th>96</th>\n",
              "      <td>0.497060</td>\n",
              "      <td>0.257181</td>\n",
              "      <td>0.000337</td>\n",
              "    </tr>\n",
              "    <tr>\n",
              "      <th>97</th>\n",
              "      <td>0.430913</td>\n",
              "      <td>0.252929</td>\n",
              "      <td>0.000145</td>\n",
              "    </tr>\n",
              "    <tr>\n",
              "      <th>98</th>\n",
              "      <td>0.843581</td>\n",
              "      <td>0.329592</td>\n",
              "      <td>0.013870</td>\n",
              "    </tr>\n",
              "    <tr>\n",
              "      <th>99</th>\n",
              "      <td>0.610401</td>\n",
              "      <td>0.270197</td>\n",
              "      <td>0.001352</td>\n",
              "    </tr>\n",
              "  </tbody>\n",
              "</table>\n",
              "<p>100 rows × 3 columns</p>\n",
              "</div>\n",
              "    <div class=\"colab-df-buttons\">\n",
              "\n",
              "  <div class=\"colab-df-container\">\n",
              "    <button class=\"colab-df-convert\" onclick=\"convertToInteractive('df-981f470a-8b6a-4522-9236-a18072f6b7d1')\"\n",
              "            title=\"Convert this dataframe to an interactive table.\"\n",
              "            style=\"display:none;\">\n",
              "\n",
              "  <svg xmlns=\"http://www.w3.org/2000/svg\" height=\"24px\" viewBox=\"0 -960 960 960\">\n",
              "    <path d=\"M120-120v-720h720v720H120Zm60-500h600v-160H180v160Zm220 220h160v-160H400v160Zm0 220h160v-160H400v160ZM180-400h160v-160H180v160Zm440 0h160v-160H620v160ZM180-180h160v-160H180v160Zm440 0h160v-160H620v160Z\"/>\n",
              "  </svg>\n",
              "    </button>\n",
              "\n",
              "  <style>\n",
              "    .colab-df-container {\n",
              "      display:flex;\n",
              "      gap: 12px;\n",
              "    }\n",
              "\n",
              "    .colab-df-convert {\n",
              "      background-color: #E8F0FE;\n",
              "      border: none;\n",
              "      border-radius: 50%;\n",
              "      cursor: pointer;\n",
              "      display: none;\n",
              "      fill: #1967D2;\n",
              "      height: 32px;\n",
              "      padding: 0 0 0 0;\n",
              "      width: 32px;\n",
              "    }\n",
              "\n",
              "    .colab-df-convert:hover {\n",
              "      background-color: #E2EBFA;\n",
              "      box-shadow: 0px 1px 2px rgba(60, 64, 67, 0.3), 0px 1px 3px 1px rgba(60, 64, 67, 0.15);\n",
              "      fill: #174EA6;\n",
              "    }\n",
              "\n",
              "    .colab-df-buttons div {\n",
              "      margin-bottom: 4px;\n",
              "    }\n",
              "\n",
              "    [theme=dark] .colab-df-convert {\n",
              "      background-color: #3B4455;\n",
              "      fill: #D2E3FC;\n",
              "    }\n",
              "\n",
              "    [theme=dark] .colab-df-convert:hover {\n",
              "      background-color: #434B5C;\n",
              "      box-shadow: 0px 1px 3px 1px rgba(0, 0, 0, 0.15);\n",
              "      filter: drop-shadow(0px 1px 2px rgba(0, 0, 0, 0.3));\n",
              "      fill: #FFFFFF;\n",
              "    }\n",
              "  </style>\n",
              "\n",
              "    <script>\n",
              "      const buttonEl =\n",
              "        document.querySelector('#df-981f470a-8b6a-4522-9236-a18072f6b7d1 button.colab-df-convert');\n",
              "      buttonEl.style.display =\n",
              "        google.colab.kernel.accessAllowed ? 'block' : 'none';\n",
              "\n",
              "      async function convertToInteractive(key) {\n",
              "        const element = document.querySelector('#df-981f470a-8b6a-4522-9236-a18072f6b7d1');\n",
              "        const dataTable =\n",
              "          await google.colab.kernel.invokeFunction('convertToInteractive',\n",
              "                                                    [key], {});\n",
              "        if (!dataTable) return;\n",
              "\n",
              "        const docLinkHtml = 'Like what you see? Visit the ' +\n",
              "          '<a target=\"_blank\" href=https://colab.research.google.com/notebooks/data_table.ipynb>data table notebook</a>'\n",
              "          + ' to learn more about interactive tables.';\n",
              "        element.innerHTML = '';\n",
              "        dataTable['output_type'] = 'display_data';\n",
              "        await google.colab.output.renderOutput(dataTable, element);\n",
              "        const docLink = document.createElement('div');\n",
              "        docLink.innerHTML = docLinkHtml;\n",
              "        element.appendChild(docLink);\n",
              "      }\n",
              "    </script>\n",
              "  </div>\n",
              "\n",
              "\n",
              "<div id=\"df-7e006218-1e1f-4db8-ad2b-86152083b6d6\">\n",
              "  <button class=\"colab-df-quickchart\" onclick=\"quickchart('df-7e006218-1e1f-4db8-ad2b-86152083b6d6')\"\n",
              "            title=\"Suggest charts\"\n",
              "            style=\"display:none;\">\n",
              "\n",
              "<svg xmlns=\"http://www.w3.org/2000/svg\" height=\"24px\"viewBox=\"0 0 24 24\"\n",
              "     width=\"24px\">\n",
              "    <g>\n",
              "        <path d=\"M19 3H5c-1.1 0-2 .9-2 2v14c0 1.1.9 2 2 2h14c1.1 0 2-.9 2-2V5c0-1.1-.9-2-2-2zM9 17H7v-7h2v7zm4 0h-2V7h2v10zm4 0h-2v-4h2v4z\"/>\n",
              "    </g>\n",
              "</svg>\n",
              "  </button>\n",
              "\n",
              "<style>\n",
              "  .colab-df-quickchart {\n",
              "      --bg-color: #E8F0FE;\n",
              "      --fill-color: #1967D2;\n",
              "      --hover-bg-color: #E2EBFA;\n",
              "      --hover-fill-color: #174EA6;\n",
              "      --disabled-fill-color: #AAA;\n",
              "      --disabled-bg-color: #DDD;\n",
              "  }\n",
              "\n",
              "  [theme=dark] .colab-df-quickchart {\n",
              "      --bg-color: #3B4455;\n",
              "      --fill-color: #D2E3FC;\n",
              "      --hover-bg-color: #434B5C;\n",
              "      --hover-fill-color: #FFFFFF;\n",
              "      --disabled-bg-color: #3B4455;\n",
              "      --disabled-fill-color: #666;\n",
              "  }\n",
              "\n",
              "  .colab-df-quickchart {\n",
              "    background-color: var(--bg-color);\n",
              "    border: none;\n",
              "    border-radius: 50%;\n",
              "    cursor: pointer;\n",
              "    display: none;\n",
              "    fill: var(--fill-color);\n",
              "    height: 32px;\n",
              "    padding: 0;\n",
              "    width: 32px;\n",
              "  }\n",
              "\n",
              "  .colab-df-quickchart:hover {\n",
              "    background-color: var(--hover-bg-color);\n",
              "    box-shadow: 0 1px 2px rgba(60, 64, 67, 0.3), 0 1px 3px 1px rgba(60, 64, 67, 0.15);\n",
              "    fill: var(--button-hover-fill-color);\n",
              "  }\n",
              "\n",
              "  .colab-df-quickchart-complete:disabled,\n",
              "  .colab-df-quickchart-complete:disabled:hover {\n",
              "    background-color: var(--disabled-bg-color);\n",
              "    fill: var(--disabled-fill-color);\n",
              "    box-shadow: none;\n",
              "  }\n",
              "\n",
              "  .colab-df-spinner {\n",
              "    border: 2px solid var(--fill-color);\n",
              "    border-color: transparent;\n",
              "    border-bottom-color: var(--fill-color);\n",
              "    animation:\n",
              "      spin 1s steps(1) infinite;\n",
              "  }\n",
              "\n",
              "  @keyframes spin {\n",
              "    0% {\n",
              "      border-color: transparent;\n",
              "      border-bottom-color: var(--fill-color);\n",
              "      border-left-color: var(--fill-color);\n",
              "    }\n",
              "    20% {\n",
              "      border-color: transparent;\n",
              "      border-left-color: var(--fill-color);\n",
              "      border-top-color: var(--fill-color);\n",
              "    }\n",
              "    30% {\n",
              "      border-color: transparent;\n",
              "      border-left-color: var(--fill-color);\n",
              "      border-top-color: var(--fill-color);\n",
              "      border-right-color: var(--fill-color);\n",
              "    }\n",
              "    40% {\n",
              "      border-color: transparent;\n",
              "      border-right-color: var(--fill-color);\n",
              "      border-top-color: var(--fill-color);\n",
              "    }\n",
              "    60% {\n",
              "      border-color: transparent;\n",
              "      border-right-color: var(--fill-color);\n",
              "    }\n",
              "    80% {\n",
              "      border-color: transparent;\n",
              "      border-right-color: var(--fill-color);\n",
              "      border-bottom-color: var(--fill-color);\n",
              "    }\n",
              "    90% {\n",
              "      border-color: transparent;\n",
              "      border-bottom-color: var(--fill-color);\n",
              "    }\n",
              "  }\n",
              "</style>\n",
              "\n",
              "  <script>\n",
              "    async function quickchart(key) {\n",
              "      const quickchartButtonEl =\n",
              "        document.querySelector('#' + key + ' button');\n",
              "      quickchartButtonEl.disabled = true;  // To prevent multiple clicks.\n",
              "      quickchartButtonEl.classList.add('colab-df-spinner');\n",
              "      try {\n",
              "        const charts = await google.colab.kernel.invokeFunction(\n",
              "            'suggestCharts', [key], {});\n",
              "      } catch (error) {\n",
              "        console.error('Error during call to suggestCharts:', error);\n",
              "      }\n",
              "      quickchartButtonEl.classList.remove('colab-df-spinner');\n",
              "      quickchartButtonEl.classList.add('colab-df-quickchart-complete');\n",
              "    }\n",
              "    (() => {\n",
              "      let quickchartButtonEl =\n",
              "        document.querySelector('#df-7e006218-1e1f-4db8-ad2b-86152083b6d6 button');\n",
              "      quickchartButtonEl.style.display =\n",
              "        google.colab.kernel.accessAllowed ? 'block' : 'none';\n",
              "    })();\n",
              "  </script>\n",
              "</div>\n",
              "    </div>\n",
              "  </div>\n"
            ],
            "application/vnd.google.colaboratory.intrinsic+json": {
              "type": "dataframe",
              "variable_name": "df_mediator",
              "summary": "{\n  \"name\": \"df_mediator\",\n  \"rows\": 100,\n  \"fields\": [\n    {\n      \"column\": \"X\",\n      \"properties\": {\n        \"dtype\": \"number\",\n        \"std\": 0.2237534475000596,\n        \"min\": 0.0,\n        \"max\": 1.0,\n        \"num_unique_values\": 100,\n        \"samples\": [\n          0.5162703396837418,\n          0.28986563489309064,\n          0.400143495559127\n        ],\n        \"semantic_type\": \"\",\n        \"description\": \"\"\n      }\n    },\n    {\n      \"column\": \"T\",\n      \"properties\": {\n        \"dtype\": \"number\",\n        \"std\": 0.03385043266655643,\n        \"min\": 0.2468586114641798,\n        \"max\": 0.403104239025725,\n        \"num_unique_values\": 100,\n        \"samples\": [\n          0.25883250489680987,\n          0.24931871093606506,\n          0.2516048064793965\n        ],\n        \"semantic_type\": \"\",\n        \"description\": \"\"\n      }\n    },\n    {\n      \"column\": \"Y\",\n      \"properties\": {\n        \"dtype\": \"number\",\n        \"std\": 0.008584528629306,\n        \"min\": 2.570983069688266e-07,\n        \"max\": 0.046928432986658414,\n        \"num_unique_values\": 100,\n        \"samples\": [\n          0.0004308053268173109,\n          3.357121546981315e-05,\n          9.953604343666738e-05\n        ],\n        \"semantic_type\": \"\",\n        \"description\": \"\"\n      }\n    }\n  ]\n}"
            }
          },
          "metadata": {},
          "execution_count": 10
        }
      ]
    },
    {
      "cell_type": "markdown",
      "source": [
        "**Q2-Intervene on $T$ setting $T:=3$**"
      ],
      "metadata": {
        "id": "Cp5iYZ5ze0j6"
      }
    },
    {
      "cell_type": "code",
      "source": [
        "def generate_samples_intervene(size,fixed_function1,fixed_function2, value_t,dist_x,dx,a1,a2,b2,nstd,seed = None,normalize=True):\n",
        "    '''Generate independent post-nonlinear samples\n",
        "    Arguments:\n",
        "        size : number of samples\n",
        "        f1, f2 to be within {x,x^2,x^3,tanh x, e^{-|x|}, cos x}\n",
        "    Output:\n",
        "        Samples T, M,Y\n",
        "    '''\n",
        "    print(seed)\n",
        "    if seed == None:\n",
        "        np.random.seed()\n",
        "    else:\n",
        "        np.random.seed(seed)\n",
        "\n",
        "    if fixed_function1 == 'linear':\n",
        "      f1 = same\n",
        "    elif fixed_function1=='carre':\n",
        "      f1 = np.square\n",
        "    elif fixed_function1=='cube':\n",
        "      f1 = cube\n",
        "    elif fixed_function1=='negexp':\n",
        "      f1 = negexp\n",
        "    else:\n",
        "      f1 = np.cos\n",
        "\n",
        "    if fixed_function2 == 'linear':\n",
        "      f2= same\n",
        "    elif fixed_function2=='carre':\n",
        "      f2 = np.square\n",
        "    elif fixed_function2=='cube':\n",
        "      f2 = cube\n",
        "    elif fixed_function2=='negexp':\n",
        "      f2 = negexp\n",
        "    else:\n",
        "      f2 = np.cos\n",
        "\n",
        "    if dist_x =='gaussian':\n",
        "        cov = np.eye(dx)\n",
        "        mu = np.ones(dx)\n",
        "        X = np.random.multivariate_normal(mu, cov, size)\n",
        "\n",
        "    elif dist_x == 'laplace':\n",
        "        X = np.random.laplace(loc=0.0, scale=1.0, size=size*dx)\n",
        "        if (dx!=1):\n",
        "          X = np.reshape(X,(size,dx))\n",
        "\n",
        "\n",
        "    Y = f2(np.dot(a2,value_t)+b2*X+nstd * np.random.normal(0, 1, size))\n",
        "\n",
        "    if normalize == True:\n",
        "        X = (X - X.min()) / (X.max() - X.min())\n",
        "        T =value_t*np.ones((len(X),1))\n",
        "        Y = (Y - Y.min()) / (Y.max() - Y.min())\n",
        "\n",
        "    return [X,T,Y]"
      ],
      "metadata": {
        "id": "B9QguVynOYdb"
      },
      "execution_count": null,
      "outputs": []
    },
    {
      "cell_type": "code",
      "source": [
        "[X,T,Y]=generate_samples_intervene(100,'cube','carre', 3.0,'gaussian',1,1,2,1,1,43)\n",
        "df_intervene=pd.DataFrame({'X':X[:,0],'T':T[:,0],'Y':Y[:,0]})\n",
        "df_intervene"
      ],
      "metadata": {
        "colab": {
          "base_uri": "https://localhost:8080/",
          "height": 442
        },
        "id": "uLPDuHKlObYR",
        "outputId": "19dd4e26-ee56-4ac1-e465-364d4b6329c6"
      },
      "execution_count": null,
      "outputs": [
        {
          "output_type": "stream",
          "name": "stdout",
          "text": [
            "43\n"
          ]
        },
        {
          "output_type": "execute_result",
          "data": {
            "text/plain": [
              "           X    T         Y\n",
              "0   0.534263  3.0  0.377819\n",
              "1   0.263968  3.0  0.261186\n",
              "2   0.386837  3.0  0.311753\n",
              "3   0.350574  3.0  0.296404\n",
              "4   0.673522  3.0  0.445627\n",
              "..       ...  ...       ...\n",
              "95  0.423019  3.0  0.327423\n",
              "96  0.497060  3.0  0.360593\n",
              "97  0.430913  3.0  0.330889\n",
              "98  0.843581  3.0  0.535549\n",
              "99  0.610401  3.0  0.414242\n",
              "\n",
              "[100 rows x 3 columns]"
            ],
            "text/html": [
              "\n",
              "  <div id=\"df-1bb39b64-8295-480a-9c94-5a7efb7d035e\" class=\"colab-df-container\">\n",
              "    <div>\n",
              "<style scoped>\n",
              "    .dataframe tbody tr th:only-of-type {\n",
              "        vertical-align: middle;\n",
              "    }\n",
              "\n",
              "    .dataframe tbody tr th {\n",
              "        vertical-align: top;\n",
              "    }\n",
              "\n",
              "    .dataframe thead th {\n",
              "        text-align: right;\n",
              "    }\n",
              "</style>\n",
              "<table border=\"1\" class=\"dataframe\">\n",
              "  <thead>\n",
              "    <tr style=\"text-align: right;\">\n",
              "      <th></th>\n",
              "      <th>X</th>\n",
              "      <th>T</th>\n",
              "      <th>Y</th>\n",
              "    </tr>\n",
              "  </thead>\n",
              "  <tbody>\n",
              "    <tr>\n",
              "      <th>0</th>\n",
              "      <td>0.534263</td>\n",
              "      <td>3.0</td>\n",
              "      <td>0.377819</td>\n",
              "    </tr>\n",
              "    <tr>\n",
              "      <th>1</th>\n",
              "      <td>0.263968</td>\n",
              "      <td>3.0</td>\n",
              "      <td>0.261186</td>\n",
              "    </tr>\n",
              "    <tr>\n",
              "      <th>2</th>\n",
              "      <td>0.386837</td>\n",
              "      <td>3.0</td>\n",
              "      <td>0.311753</td>\n",
              "    </tr>\n",
              "    <tr>\n",
              "      <th>3</th>\n",
              "      <td>0.350574</td>\n",
              "      <td>3.0</td>\n",
              "      <td>0.296404</td>\n",
              "    </tr>\n",
              "    <tr>\n",
              "      <th>4</th>\n",
              "      <td>0.673522</td>\n",
              "      <td>3.0</td>\n",
              "      <td>0.445627</td>\n",
              "    </tr>\n",
              "    <tr>\n",
              "      <th>...</th>\n",
              "      <td>...</td>\n",
              "      <td>...</td>\n",
              "      <td>...</td>\n",
              "    </tr>\n",
              "    <tr>\n",
              "      <th>95</th>\n",
              "      <td>0.423019</td>\n",
              "      <td>3.0</td>\n",
              "      <td>0.327423</td>\n",
              "    </tr>\n",
              "    <tr>\n",
              "      <th>96</th>\n",
              "      <td>0.497060</td>\n",
              "      <td>3.0</td>\n",
              "      <td>0.360593</td>\n",
              "    </tr>\n",
              "    <tr>\n",
              "      <th>97</th>\n",
              "      <td>0.430913</td>\n",
              "      <td>3.0</td>\n",
              "      <td>0.330889</td>\n",
              "    </tr>\n",
              "    <tr>\n",
              "      <th>98</th>\n",
              "      <td>0.843581</td>\n",
              "      <td>3.0</td>\n",
              "      <td>0.535549</td>\n",
              "    </tr>\n",
              "    <tr>\n",
              "      <th>99</th>\n",
              "      <td>0.610401</td>\n",
              "      <td>3.0</td>\n",
              "      <td>0.414242</td>\n",
              "    </tr>\n",
              "  </tbody>\n",
              "</table>\n",
              "<p>100 rows × 3 columns</p>\n",
              "</div>\n",
              "    <div class=\"colab-df-buttons\">\n",
              "\n",
              "  <div class=\"colab-df-container\">\n",
              "    <button class=\"colab-df-convert\" onclick=\"convertToInteractive('df-1bb39b64-8295-480a-9c94-5a7efb7d035e')\"\n",
              "            title=\"Convert this dataframe to an interactive table.\"\n",
              "            style=\"display:none;\">\n",
              "\n",
              "  <svg xmlns=\"http://www.w3.org/2000/svg\" height=\"24px\" viewBox=\"0 -960 960 960\">\n",
              "    <path d=\"M120-120v-720h720v720H120Zm60-500h600v-160H180v160Zm220 220h160v-160H400v160Zm0 220h160v-160H400v160ZM180-400h160v-160H180v160Zm440 0h160v-160H620v160ZM180-180h160v-160H180v160Zm440 0h160v-160H620v160Z\"/>\n",
              "  </svg>\n",
              "    </button>\n",
              "\n",
              "  <style>\n",
              "    .colab-df-container {\n",
              "      display:flex;\n",
              "      gap: 12px;\n",
              "    }\n",
              "\n",
              "    .colab-df-convert {\n",
              "      background-color: #E8F0FE;\n",
              "      border: none;\n",
              "      border-radius: 50%;\n",
              "      cursor: pointer;\n",
              "      display: none;\n",
              "      fill: #1967D2;\n",
              "      height: 32px;\n",
              "      padding: 0 0 0 0;\n",
              "      width: 32px;\n",
              "    }\n",
              "\n",
              "    .colab-df-convert:hover {\n",
              "      background-color: #E2EBFA;\n",
              "      box-shadow: 0px 1px 2px rgba(60, 64, 67, 0.3), 0px 1px 3px 1px rgba(60, 64, 67, 0.15);\n",
              "      fill: #174EA6;\n",
              "    }\n",
              "\n",
              "    .colab-df-buttons div {\n",
              "      margin-bottom: 4px;\n",
              "    }\n",
              "\n",
              "    [theme=dark] .colab-df-convert {\n",
              "      background-color: #3B4455;\n",
              "      fill: #D2E3FC;\n",
              "    }\n",
              "\n",
              "    [theme=dark] .colab-df-convert:hover {\n",
              "      background-color: #434B5C;\n",
              "      box-shadow: 0px 1px 3px 1px rgba(0, 0, 0, 0.15);\n",
              "      filter: drop-shadow(0px 1px 2px rgba(0, 0, 0, 0.3));\n",
              "      fill: #FFFFFF;\n",
              "    }\n",
              "  </style>\n",
              "\n",
              "    <script>\n",
              "      const buttonEl =\n",
              "        document.querySelector('#df-1bb39b64-8295-480a-9c94-5a7efb7d035e button.colab-df-convert');\n",
              "      buttonEl.style.display =\n",
              "        google.colab.kernel.accessAllowed ? 'block' : 'none';\n",
              "\n",
              "      async function convertToInteractive(key) {\n",
              "        const element = document.querySelector('#df-1bb39b64-8295-480a-9c94-5a7efb7d035e');\n",
              "        const dataTable =\n",
              "          await google.colab.kernel.invokeFunction('convertToInteractive',\n",
              "                                                    [key], {});\n",
              "        if (!dataTable) return;\n",
              "\n",
              "        const docLinkHtml = 'Like what you see? Visit the ' +\n",
              "          '<a target=\"_blank\" href=https://colab.research.google.com/notebooks/data_table.ipynb>data table notebook</a>'\n",
              "          + ' to learn more about interactive tables.';\n",
              "        element.innerHTML = '';\n",
              "        dataTable['output_type'] = 'display_data';\n",
              "        await google.colab.output.renderOutput(dataTable, element);\n",
              "        const docLink = document.createElement('div');\n",
              "        docLink.innerHTML = docLinkHtml;\n",
              "        element.appendChild(docLink);\n",
              "      }\n",
              "    </script>\n",
              "  </div>\n",
              "\n",
              "\n",
              "<div id=\"df-c5a2887d-2b0f-441e-90c8-fa4fbc04fb3d\">\n",
              "  <button class=\"colab-df-quickchart\" onclick=\"quickchart('df-c5a2887d-2b0f-441e-90c8-fa4fbc04fb3d')\"\n",
              "            title=\"Suggest charts\"\n",
              "            style=\"display:none;\">\n",
              "\n",
              "<svg xmlns=\"http://www.w3.org/2000/svg\" height=\"24px\"viewBox=\"0 0 24 24\"\n",
              "     width=\"24px\">\n",
              "    <g>\n",
              "        <path d=\"M19 3H5c-1.1 0-2 .9-2 2v14c0 1.1.9 2 2 2h14c1.1 0 2-.9 2-2V5c0-1.1-.9-2-2-2zM9 17H7v-7h2v7zm4 0h-2V7h2v10zm4 0h-2v-4h2v4z\"/>\n",
              "    </g>\n",
              "</svg>\n",
              "  </button>\n",
              "\n",
              "<style>\n",
              "  .colab-df-quickchart {\n",
              "      --bg-color: #E8F0FE;\n",
              "      --fill-color: #1967D2;\n",
              "      --hover-bg-color: #E2EBFA;\n",
              "      --hover-fill-color: #174EA6;\n",
              "      --disabled-fill-color: #AAA;\n",
              "      --disabled-bg-color: #DDD;\n",
              "  }\n",
              "\n",
              "  [theme=dark] .colab-df-quickchart {\n",
              "      --bg-color: #3B4455;\n",
              "      --fill-color: #D2E3FC;\n",
              "      --hover-bg-color: #434B5C;\n",
              "      --hover-fill-color: #FFFFFF;\n",
              "      --disabled-bg-color: #3B4455;\n",
              "      --disabled-fill-color: #666;\n",
              "  }\n",
              "\n",
              "  .colab-df-quickchart {\n",
              "    background-color: var(--bg-color);\n",
              "    border: none;\n",
              "    border-radius: 50%;\n",
              "    cursor: pointer;\n",
              "    display: none;\n",
              "    fill: var(--fill-color);\n",
              "    height: 32px;\n",
              "    padding: 0;\n",
              "    width: 32px;\n",
              "  }\n",
              "\n",
              "  .colab-df-quickchart:hover {\n",
              "    background-color: var(--hover-bg-color);\n",
              "    box-shadow: 0 1px 2px rgba(60, 64, 67, 0.3), 0 1px 3px 1px rgba(60, 64, 67, 0.15);\n",
              "    fill: var(--button-hover-fill-color);\n",
              "  }\n",
              "\n",
              "  .colab-df-quickchart-complete:disabled,\n",
              "  .colab-df-quickchart-complete:disabled:hover {\n",
              "    background-color: var(--disabled-bg-color);\n",
              "    fill: var(--disabled-fill-color);\n",
              "    box-shadow: none;\n",
              "  }\n",
              "\n",
              "  .colab-df-spinner {\n",
              "    border: 2px solid var(--fill-color);\n",
              "    border-color: transparent;\n",
              "    border-bottom-color: var(--fill-color);\n",
              "    animation:\n",
              "      spin 1s steps(1) infinite;\n",
              "  }\n",
              "\n",
              "  @keyframes spin {\n",
              "    0% {\n",
              "      border-color: transparent;\n",
              "      border-bottom-color: var(--fill-color);\n",
              "      border-left-color: var(--fill-color);\n",
              "    }\n",
              "    20% {\n",
              "      border-color: transparent;\n",
              "      border-left-color: var(--fill-color);\n",
              "      border-top-color: var(--fill-color);\n",
              "    }\n",
              "    30% {\n",
              "      border-color: transparent;\n",
              "      border-left-color: var(--fill-color);\n",
              "      border-top-color: var(--fill-color);\n",
              "      border-right-color: var(--fill-color);\n",
              "    }\n",
              "    40% {\n",
              "      border-color: transparent;\n",
              "      border-right-color: var(--fill-color);\n",
              "      border-top-color: var(--fill-color);\n",
              "    }\n",
              "    60% {\n",
              "      border-color: transparent;\n",
              "      border-right-color: var(--fill-color);\n",
              "    }\n",
              "    80% {\n",
              "      border-color: transparent;\n",
              "      border-right-color: var(--fill-color);\n",
              "      border-bottom-color: var(--fill-color);\n",
              "    }\n",
              "    90% {\n",
              "      border-color: transparent;\n",
              "      border-bottom-color: var(--fill-color);\n",
              "    }\n",
              "  }\n",
              "</style>\n",
              "\n",
              "  <script>\n",
              "    async function quickchart(key) {\n",
              "      const quickchartButtonEl =\n",
              "        document.querySelector('#' + key + ' button');\n",
              "      quickchartButtonEl.disabled = true;  // To prevent multiple clicks.\n",
              "      quickchartButtonEl.classList.add('colab-df-spinner');\n",
              "      try {\n",
              "        const charts = await google.colab.kernel.invokeFunction(\n",
              "            'suggestCharts', [key], {});\n",
              "      } catch (error) {\n",
              "        console.error('Error during call to suggestCharts:', error);\n",
              "      }\n",
              "      quickchartButtonEl.classList.remove('colab-df-spinner');\n",
              "      quickchartButtonEl.classList.add('colab-df-quickchart-complete');\n",
              "    }\n",
              "    (() => {\n",
              "      let quickchartButtonEl =\n",
              "        document.querySelector('#df-c5a2887d-2b0f-441e-90c8-fa4fbc04fb3d button');\n",
              "      quickchartButtonEl.style.display =\n",
              "        google.colab.kernel.accessAllowed ? 'block' : 'none';\n",
              "    })();\n",
              "  </script>\n",
              "</div>\n",
              "    </div>\n",
              "  </div>\n"
            ],
            "application/vnd.google.colaboratory.intrinsic+json": {
              "type": "dataframe",
              "variable_name": "df_intervene",
              "summary": "{\n  \"name\": \"df_intervene\",\n  \"rows\": 100,\n  \"fields\": [\n    {\n      \"column\": \"X\",\n      \"properties\": {\n        \"dtype\": \"number\",\n        \"std\": 0.2237534475000596,\n        \"min\": 0.0,\n        \"max\": 1.0,\n        \"num_unique_values\": 100,\n        \"samples\": [\n          0.5162703396837418,\n          0.28986563489309064,\n          0.400143495559127\n        ],\n        \"semantic_type\": \"\",\n        \"description\": \"\"\n      }\n    },\n    {\n      \"column\": \"T\",\n      \"properties\": {\n        \"dtype\": \"number\",\n        \"std\": 0.0,\n        \"min\": 3.0,\n        \"max\": 3.0,\n        \"num_unique_values\": 1,\n        \"samples\": [\n          3.0\n        ],\n        \"semantic_type\": \"\",\n        \"description\": \"\"\n      }\n    },\n    {\n      \"column\": \"Y\",\n      \"properties\": {\n        \"dtype\": \"number\",\n        \"std\": 0.10390802688726787,\n        \"min\": 0.1663637019303206,\n        \"max\": 0.6251675737893245,\n        \"num_unique_values\": 100,\n        \"samples\": [\n          0.3694411517685201\n        ],\n        \"semantic_type\": \"\",\n        \"description\": \"\"\n      }\n    }\n  ]\n}"
            }
          },
          "metadata": {},
          "execution_count": 13
        }
      ]
    },
    {
      "cell_type": "markdown",
      "source": [
        "### **Counterfactuals**"
      ],
      "metadata": {
        "id": "O6bDsMYPfA4c"
      }
    },
    {
      "cell_type": "markdown",
      "source": [
        "We assume now that we have observed $(X,T,Y)=(1,-1,1)$ with $f_1=f_2:=t\\mapsto t$, $a_1=a_2=b_2=1$."
      ],
      "metadata": {
        "id": "If5crwg-fAGi"
      }
    },
    {
      "cell_type": "markdown",
      "source": [
        "**Q3-What are the value of the two noises $\\varepsilon_1,\\varepsilon_2$?**"
      ],
      "metadata": {
        "id": "3bqFdTwSfGjk"
      }
    },
    {
      "cell_type": "markdown",
      "source": [
        "The example becomes\n",
        "$$-1=1+\\varepsilon_1$$\n",
        "$$1=-1+1+\\varepsilon_2$$\n",
        "Hence $\\varepsilon_1=-2,\\varepsilon_2=1$"
      ],
      "metadata": {
        "id": "-wPnVrnlNKCo"
      }
    },
    {
      "cell_type": "markdown",
      "source": [
        "**Q4-What would have happen if $T:=2$?**"
      ],
      "metadata": {
        "id": "LY4x-TBzfLft"
      }
    },
    {
      "cell_type": "markdown",
      "source": [
        "Since $$Y=T+ X+\\varepsilon_2$$ and $$T=2,X=1,\\varepsilon_2=1$$ one has $Y=2+1+1=4$"
      ],
      "metadata": {
        "id": "dhJvB-1hNz3O"
      }
    },
    {
      "cell_type": "markdown",
      "source": [
        "## **Exercise 2**"
      ],
      "metadata": {
        "id": "W2VKuFyaFnXm"
      }
    },
    {
      "cell_type": "markdown",
      "source": [
        "###**Estimation of the effects on a complex example**"
      ],
      "metadata": {
        "id": "Bj2eA4jM83xa"
      }
    },
    {
      "cell_type": "code",
      "source": [
        "def get_importances(predictors, outcome, feature_names, standardize=False):\n",
        "    '''Gets bi-covs, bi-corrs,linear reg coeffs, RF importances, RF shap and MLP/NN shap output.\n",
        "    :param predictors: array of preds (N, D)\n",
        "    :param outcome: array of outcome (N, 1)\n",
        "    :param feature_names: list of var names as strings\n",
        "    :param standardize: where to standardize the data (does not apply to the computation of\n",
        "    biv_covs, biv_corrs, or lr_coefs).\n",
        "    :return as np.arrays (D,) of biv_corrs, biv_covs, rf_imps, rf_shaps, nn_shap, lin_coefs'''\n",
        "\n",
        "    biv_covs = []\n",
        "    biv_corrs = []\n",
        "    for i in range(predictors.shape[1]):\n",
        "        biv_covs.append(np.abs(np.cov(predictors[:, i], outcome,))[0,1])\n",
        "        biv_corrs.append(np.abs(np.corrcoef(predictors[:, i], outcome,))[0,1])\n",
        "\n",
        "    print('------------LR (always unstandardizd)---------------')\n",
        "    # compare with linear regression coefficients\n",
        "    reg = LinearRegression().fit(predictors, outcome)\n",
        "    X_train, X_test, y_train, y_test = train_test_split(predictors, outcome, test_size=0.4, random_state=42)\n",
        "    predictions = reg.predict(X_test)\n",
        "    lr_coefs =  np.abs(reg.coef_)\n",
        "    print('MSE', mean_squared_error(predictions, y_test))\n",
        "\n",
        "\n",
        "    if standardize:\n",
        "        predictors = ((predictors - predictors.mean(0)) / (predictors.std(0)))\n",
        "        X_train, X_test, y_train, y_test = train_test_split(predictors, outcome, test_size=0.4, random_state=42)\n",
        "\n",
        "\n",
        "    print('------------RF---------------')\n",
        "    forest = RandomForestRegressor(random_state=0)\n",
        "    forest.fit(X_train, y_train)\n",
        "    predictions = forest.predict(X_test)\n",
        "    rf_importances = forest.feature_importances_\n",
        "\n",
        "\n",
        "    shap_sample_inds_train = np.random.choice(np.arange(0,len(X_train)), 500)\n",
        "    shap_sample_inds_test = np.random.choice(np.arange(0,len(X_test)), 500)\n",
        "    explainer = shap.TreeExplainer(forest, X_train[shap_sample_inds_train])\n",
        "    rf_shap_vals = np.mean(np.abs(explainer.shap_values(X_test[shap_sample_inds_test], approximate=True)),0)\n",
        "    print('MSE', mean_squared_error(predictions, y_test))\n",
        "\n",
        "    print('------------NN---------------')\n",
        "    nn_regr = MLPRegressor(hidden_layer_sizes=(100,),\n",
        "                           activation='relu', solver='adam', alpha=0.0001,\n",
        "                           batch_size='auto', learning_rate='adaptive',\n",
        "                           learning_rate_init=0.001, power_t=0.5, max_iter=200, shuffle=True,)\n",
        "    nn_regr.fit(X_train, y_train)\n",
        "    predictions = nn_regr.predict(X_test)\n",
        "\n",
        "    explainer = shap.KernelExplainer(nn_regr.predict, shap.sample(X_train, 500))\n",
        "    nn_shap_vals = np.mean(np.abs(explainer.shap_values(X_test, nsamples=500)),0)\n",
        "    print('MSE', mean_squared_error(predictions, y_test))\n",
        "\n",
        "\n",
        "\n",
        "    return np.asarray(biv_covs), np.asarray(biv_corrs), rf_importances, rf_shap_vals, nn_shap_vals, lr_coefs"
      ],
      "metadata": {
        "id": "3o6L7R-vISjo"
      },
      "execution_count": null,
      "outputs": []
    },
    {
      "cell_type": "code",
      "source": [
        "def plot_results(biv_corrs, rf_importances, rf_shap_vals, nn_shap_vals, lr_coef, feature_names, graph_name):\n",
        "    '''Bar plot with variables and different importance measures.'''\n",
        "\n",
        "    all_results = pd.DataFrame([lr_coef, rf_importances, rf_shap_vals, nn_shap_vals]).T\n",
        "    all_results.index = feature_names\n",
        "    cols = ['LR-coefs', 'RF-imps', 'RF-Shap', 'NN-Shap']\n",
        "    all_results.columns = cols\n",
        "#     min_, max_ = all_results.min(), all_results.max()\n",
        "#     m = (1 - min_) / (max_ - min_)\n",
        "#     b = min_ - m*min_\n",
        "#     all_results = all_results *m + b\n",
        "    all_results.clip(lower=0, upper=1, inplace=True)\n",
        "    all_results['bi-corrs'] = biv_corrs\n",
        "    all_results['Var Names'] = all_results.index\n",
        "\n",
        "    ax = plt.figure(figsize=(10, 6)).add_subplot(111)\n",
        "    all_results.plot(ax=ax, x=\"Var Names\", y=cols.append('bi-corrs'), kind=\"bar\",fontsize=16, alpha=0.7)\n",
        "    bars = ax.patches\n",
        "    hatches = ''.join(h*len(all_results) for h in 'x/O.')\n",
        "    for bar, hatch in zip(bars, hatches):\n",
        "        bar.set_hatch(hatch)\n",
        "    ax.legend(loc='upper right', bbox_to_anchor=(1, 1), ncol=5,fontsize=12)\n",
        "    ax.set_ylim(0, 1.15)\n",
        "    ax.figure.savefig(graph_name, dpi=200)"
      ],
      "metadata": {
        "id": "J9g_dHfWIEPJ"
      },
      "execution_count": null,
      "outputs": []
    },
    {
      "cell_type": "markdown",
      "source": [
        "### **Example** 1"
      ],
      "metadata": {
        "id": "cWjx3yq5IjAT"
      }
    },
    {
      "cell_type": "code",
      "source": [
        "g = gr.Digraph()\n",
        "g.edge(\"A\", \"K\"), g.edge(\"C\", \"X\"), g.edge(\"A\", \"X\"),g.edge(\"X\",\"F\"), g.edge(\"X\",\"D\"),g.edge(\"D\",\"G\"),g.edge(\"K\",\"Y\"),g.edge(\"D\",\"Y\"),g.edge(\"Y\",\"H\")\n",
        "g"
      ],
      "metadata": {
        "colab": {
          "base_uri": "https://localhost:8080/",
          "height": 464
        },
        "id": "fNhqwrOCfOg2",
        "outputId": "48c04df6-3452-41e8-fb0b-7d739c5fbe0f"
      },
      "execution_count": null,
      "outputs": [
        {
          "output_type": "execute_result",
          "data": {
            "image/svg+xml": "<?xml version=\"1.0\" encoding=\"UTF-8\" standalone=\"no\"?>\n<!DOCTYPE svg PUBLIC \"-//W3C//DTD SVG 1.1//EN\"\n \"http://www.w3.org/Graphics/SVG/1.1/DTD/svg11.dtd\">\n<!-- Generated by graphviz version 2.43.0 (0)\n -->\n<!-- Title: %3 Pages: 1 -->\n<svg width=\"189pt\" height=\"332pt\"\n viewBox=\"0.00 0.00 189.00 332.00\" xmlns=\"http://www.w3.org/2000/svg\" xmlns:xlink=\"http://www.w3.org/1999/xlink\">\n<g id=\"graph0\" class=\"graph\" transform=\"scale(1 1) rotate(0) translate(4 328)\">\n<title>%3</title>\n<polygon fill=\"white\" stroke=\"transparent\" points=\"-4,4 -4,-328 185,-328 185,4 -4,4\"/>\n<!-- A -->\n<g id=\"node1\" class=\"node\">\n<title>A</title>\n<ellipse fill=\"none\" stroke=\"black\" cx=\"27\" cy=\"-306\" rx=\"27\" ry=\"18\"/>\n<text text-anchor=\"middle\" x=\"27\" y=\"-302.3\" font-family=\"Times,serif\" font-size=\"14.00\">A</text>\n</g>\n<!-- K -->\n<g id=\"node2\" class=\"node\">\n<title>K</title>\n<ellipse fill=\"none\" stroke=\"black\" cx=\"27\" cy=\"-234\" rx=\"27\" ry=\"18\"/>\n<text text-anchor=\"middle\" x=\"27\" y=\"-230.3\" font-family=\"Times,serif\" font-size=\"14.00\">K</text>\n</g>\n<!-- A&#45;&gt;K -->\n<g id=\"edge1\" class=\"edge\">\n<title>A&#45;&gt;K</title>\n<path fill=\"none\" stroke=\"black\" d=\"M27,-287.7C27,-279.98 27,-270.71 27,-262.11\"/>\n<polygon fill=\"black\" stroke=\"black\" points=\"30.5,-262.1 27,-252.1 23.5,-262.1 30.5,-262.1\"/>\n</g>\n<!-- X -->\n<g id=\"node4\" class=\"node\">\n<title>X</title>\n<ellipse fill=\"none\" stroke=\"black\" cx=\"99\" cy=\"-234\" rx=\"27\" ry=\"18\"/>\n<text text-anchor=\"middle\" x=\"99\" y=\"-230.3\" font-family=\"Times,serif\" font-size=\"14.00\">X</text>\n</g>\n<!-- A&#45;&gt;X -->\n<g id=\"edge3\" class=\"edge\">\n<title>A&#45;&gt;X</title>\n<path fill=\"none\" stroke=\"black\" d=\"M41.57,-290.83C51.75,-280.94 65.52,-267.55 77.03,-256.36\"/>\n<polygon fill=\"black\" stroke=\"black\" points=\"79.47,-258.87 84.2,-249.38 74.59,-253.85 79.47,-258.87\"/>\n</g>\n<!-- Y -->\n<g id=\"node8\" class=\"node\">\n<title>Y</title>\n<ellipse fill=\"none\" stroke=\"black\" cx=\"55\" cy=\"-90\" rx=\"27\" ry=\"18\"/>\n<text text-anchor=\"middle\" x=\"55\" y=\"-86.3\" font-family=\"Times,serif\" font-size=\"14.00\">Y</text>\n</g>\n<!-- K&#45;&gt;Y -->\n<g id=\"edge7\" class=\"edge\">\n<title>K&#45;&gt;Y</title>\n<path fill=\"none\" stroke=\"black\" d=\"M30.38,-215.87C35.17,-191.56 43.99,-146.82 49.67,-118.01\"/>\n<polygon fill=\"black\" stroke=\"black\" points=\"53.11,-118.68 51.61,-108.19 46.24,-117.32 53.11,-118.68\"/>\n</g>\n<!-- C -->\n<g id=\"node3\" class=\"node\">\n<title>C</title>\n<ellipse fill=\"none\" stroke=\"black\" cx=\"99\" cy=\"-306\" rx=\"27\" ry=\"18\"/>\n<text text-anchor=\"middle\" x=\"99\" y=\"-302.3\" font-family=\"Times,serif\" font-size=\"14.00\">C</text>\n</g>\n<!-- C&#45;&gt;X -->\n<g id=\"edge2\" class=\"edge\">\n<title>C&#45;&gt;X</title>\n<path fill=\"none\" stroke=\"black\" d=\"M99,-287.7C99,-279.98 99,-270.71 99,-262.11\"/>\n<polygon fill=\"black\" stroke=\"black\" points=\"102.5,-262.1 99,-252.1 95.5,-262.1 102.5,-262.1\"/>\n</g>\n<!-- F -->\n<g id=\"node5\" class=\"node\">\n<title>F</title>\n<ellipse fill=\"none\" stroke=\"black\" cx=\"82\" cy=\"-162\" rx=\"27\" ry=\"18\"/>\n<text text-anchor=\"middle\" x=\"82\" y=\"-158.3\" font-family=\"Times,serif\" font-size=\"14.00\">F</text>\n</g>\n<!-- X&#45;&gt;F -->\n<g id=\"edge4\" class=\"edge\">\n<title>X&#45;&gt;F</title>\n<path fill=\"none\" stroke=\"black\" d=\"M94.88,-216.05C92.99,-208.26 90.7,-198.82 88.58,-190.08\"/>\n<polygon fill=\"black\" stroke=\"black\" points=\"91.96,-189.17 86.2,-180.28 85.15,-190.82 91.96,-189.17\"/>\n</g>\n<!-- D -->\n<g id=\"node6\" class=\"node\">\n<title>D</title>\n<ellipse fill=\"none\" stroke=\"black\" cx=\"154\" cy=\"-162\" rx=\"27\" ry=\"18\"/>\n<text text-anchor=\"middle\" x=\"154\" y=\"-158.3\" font-family=\"Times,serif\" font-size=\"14.00\">D</text>\n</g>\n<!-- X&#45;&gt;D -->\n<g id=\"edge5\" class=\"edge\">\n<title>X&#45;&gt;D</title>\n<path fill=\"none\" stroke=\"black\" d=\"M110.93,-217.81C118.21,-208.55 127.66,-196.52 135.85,-186.09\"/>\n<polygon fill=\"black\" stroke=\"black\" points=\"138.66,-188.18 142.09,-178.16 133.16,-183.86 138.66,-188.18\"/>\n</g>\n<!-- G -->\n<g id=\"node7\" class=\"node\">\n<title>G</title>\n<ellipse fill=\"none\" stroke=\"black\" cx=\"154\" cy=\"-90\" rx=\"27\" ry=\"18\"/>\n<text text-anchor=\"middle\" x=\"154\" y=\"-86.3\" font-family=\"Times,serif\" font-size=\"14.00\">G</text>\n</g>\n<!-- D&#45;&gt;G -->\n<g id=\"edge6\" class=\"edge\">\n<title>D&#45;&gt;G</title>\n<path fill=\"none\" stroke=\"black\" d=\"M154,-143.7C154,-135.98 154,-126.71 154,-118.11\"/>\n<polygon fill=\"black\" stroke=\"black\" points=\"157.5,-118.1 154,-108.1 150.5,-118.1 157.5,-118.1\"/>\n</g>\n<!-- D&#45;&gt;Y -->\n<g id=\"edge8\" class=\"edge\">\n<title>D&#45;&gt;Y</title>\n<path fill=\"none\" stroke=\"black\" d=\"M135.84,-148.16C120.63,-137.41 98.71,-121.91 81.53,-109.76\"/>\n<polygon fill=\"black\" stroke=\"black\" points=\"83.23,-106.67 73.04,-103.76 79.19,-112.39 83.23,-106.67\"/>\n</g>\n<!-- H -->\n<g id=\"node9\" class=\"node\">\n<title>H</title>\n<ellipse fill=\"none\" stroke=\"black\" cx=\"55\" cy=\"-18\" rx=\"27\" ry=\"18\"/>\n<text text-anchor=\"middle\" x=\"55\" y=\"-14.3\" font-family=\"Times,serif\" font-size=\"14.00\">H</text>\n</g>\n<!-- Y&#45;&gt;H -->\n<g id=\"edge9\" class=\"edge\">\n<title>Y&#45;&gt;H</title>\n<path fill=\"none\" stroke=\"black\" d=\"M55,-71.7C55,-63.98 55,-54.71 55,-46.11\"/>\n<polygon fill=\"black\" stroke=\"black\" points=\"58.5,-46.1 55,-36.1 51.5,-46.1 58.5,-46.1\"/>\n</g>\n</g>\n</svg>\n",
            "text/plain": [
              "<graphviz.graphs.Digraph at 0x7c27bdbbbfd0>"
            ]
          },
          "metadata": {},
          "execution_count": 20
        }
      ]
    },
    {
      "cell_type": "markdown",
      "source": [
        "We associate a LinGAM to this graph"
      ],
      "metadata": {
        "id": "5cBjDi9vgC0W"
      }
    },
    {
      "cell_type": "code",
      "source": [
        "N = 200\n",
        "\n",
        "###############################################################\n",
        "######## EITHER RUN: ########\n",
        "low_corr = 0\n",
        "C = np.random.randn(N,1)   # exogenous cause of X\n",
        "A = 0.8 * np.random.randn(N,1)  # backdoor adjustment variable (also cause of X)\n",
        "K = A + 0.1 * np.random.randn(N,1)  # backdoor adjustment variable (cause of A and Y)\n",
        "X = C - 2*A + 0.2 * np.random.randn(N,1)  # treatment variable\n",
        "F = 3*X + 0.8 * np.random.randn(N,1)  # descendent of treatment variable\n",
        "D = -2*X + 0.5 * np.random.randn(N,1)  # mediator between x and y\n",
        "G = D + 0.5 * np.random.randn(N,1)  # descendent of mediator\n",
        "Y = 2*K - D + 0.2 * np.random.randn(N,1)  # outcome variable\n",
        "H = 0.5*Y + 0.1 * np.random.randn(N,1)  # effect of Y\n",
        "\n",
        "feature_names = ['C', 'A', 'K', 'X', 'F', 'D', 'G', 'H']"
      ],
      "metadata": {
        "id": "-cIFwiuUN3aI"
      },
      "execution_count": null,
      "outputs": []
    },
    {
      "cell_type": "markdown",
      "source": [
        "### Q1-Investigate $X\\rightarrow Y$ using classical importance measures. Start by looking at the result with ALL variables"
      ],
      "metadata": {
        "id": "69tUNLPZMOM4"
      }
    },
    {
      "cell_type": "code",
      "source": [
        "predictors = np.concatenate((C, A, K, X, F, D, G, H),1)\n",
        "outcome =  Y[:,0]\n",
        "# biv_covs,biv_corrs, rf_importances, rf_shap_vals, nn_shap_vals, lr_coefs = get_importances(predictors, outcome, feature_names)\n",
        "# plot_results(biv_corrs, rf_importances, rf_shap_vals, nn_shap_vals, lr_coefs, feature_names, graph_name='all_preds.png')\n",
        "\n",
        "biv_covs_a,biv_corrs_a, rf_importances_a, rf_shap_vals_a, nn_shap_vals_a, lr_coefs_a = get_importances(predictors, outcome, feature_names, standardize=True)\n",
        "\n",
        "for i, corr in enumerate(biv_corrs_a):\n",
        "    print(feature_names[i], corr)"
      ],
      "metadata": {
        "id": "N2AohJEHF4vA",
        "colab": {
          "base_uri": "https://localhost:8080/",
          "height": 381,
          "referenced_widgets": [
            "138bb7a8863a4f2b8eb07337145f870f",
            "9ec30b6c6c9f4dea9acb23daa3bb3302",
            "ba6306c0688d42838d141c3849b6025d",
            "7e3592988af24c7b9cba7f4a28ad093f",
            "02fbc3f3f83e47fb9bb61601b8e8f448",
            "530043c9659540c685a99ab334fc08b1",
            "3aa583979cb54ecba086d18b09c4ca4d",
            "989fd65296424ce8b95e3f89b8d66f1c",
            "f24c629f5bd44e02bfa2f1af1b38c6e8",
            "586f8b4cad55484fba9a548f4a547ac7",
            "630bed13c6a3463281ef8355479acf9d"
          ]
        },
        "outputId": "dace21fb-67f7-4320-f477-32881504335b"
      },
      "execution_count": null,
      "outputs": [
        {
          "output_type": "stream",
          "name": "stdout",
          "text": [
            "------------LR (always unstandardizd)---------------\n",
            "MSE 0.019372538384588512\n",
            "------------RF---------------\n",
            "MSE 0.15710775778162964\n",
            "------------NN---------------\n"
          ]
        },
        {
          "output_type": "stream",
          "name": "stderr",
          "text": [
            "/usr/local/lib/python3.10/dist-packages/sklearn/neural_network/_multilayer_perceptron.py:686: ConvergenceWarning: Stochastic Optimizer: Maximum iterations (200) reached and the optimization hasn't converged yet.\n",
            "  warnings.warn(\n",
            "WARNING:shap:Using 120 background data samples could cause slower run times. Consider using shap.sample(data, K) or shap.kmeans(data, K) to summarize the background as K samples.\n"
          ]
        },
        {
          "output_type": "display_data",
          "data": {
            "text/plain": [
              "  0%|          | 0/80 [00:00<?, ?it/s]"
            ],
            "application/vnd.jupyter.widget-view+json": {
              "version_major": 2,
              "version_minor": 0,
              "model_id": "138bb7a8863a4f2b8eb07337145f870f"
            }
          },
          "metadata": {}
        },
        {
          "output_type": "stream",
          "name": "stdout",
          "text": [
            "MSE 0.14208025313400396\n",
            "C 0.752252823381583\n",
            "A 0.6273612178901715\n",
            "K 0.6082761794103015\n",
            "X 0.9280955258149368\n",
            "F 0.9190434915902358\n",
            "D 0.9403237949226523\n",
            "G 0.9322405381465463\n",
            "H 0.9976529222828242\n"
          ]
        }
      ]
    },
    {
      "cell_type": "code",
      "source": [
        "gn = 'all_preds_std.png' if not low_corr else 'all_preds_std_low_corr.png'\n",
        "plot_results(biv_corrs_a, rf_importances_a, rf_shap_vals_a, nn_shap_vals_a, lr_coefs_a, feature_names, graph_name=gn)"
      ],
      "metadata": {
        "colab": {
          "base_uri": "https://localhost:8080/",
          "height": 545
        },
        "id": "t0BjPipTQ9S1",
        "outputId": "b2529a8e-8247-4e89-b18e-2eb2715a07a3"
      },
      "execution_count": null,
      "outputs": [
        {
          "output_type": "display_data",
          "data": {
            "text/plain": [
              "<Figure size 1000x600 with 1 Axes>"
            ],
            "image/png": "[encoded data removed]"
          },
          "metadata": {}
        }
      ]
    },
    {
      "cell_type": "markdown",
      "source": [
        "##Q2-Let's remove the effect of Y, which is 'H'\n"
      ],
      "metadata": {
        "id": "uN3dJP_AMq1a"
      }
    },
    {
      "cell_type": "code",
      "source": [
        "# remove effect of y\n",
        "predictors = np.concatenate((C, A, K, X, F, D, G),1)\n",
        "outcome =  Y[:,0]\n",
        "feature_names_b = ['C', 'A', 'K', 'X', 'F', 'D', 'G']\n",
        "\n",
        "# biv_covs,biv_corrs, rf_importances, rf_shap_vals, nn_shap_vals, lr_coefs = get_importances(predictors, outcome, feature_names)\n",
        "# plot_results(biv_corrs, rf_importances, rf_shap_vals, nn_shap_vals, lr_coefs, feature_names, graph_name='no_H.png')\n",
        "gn = 'no_H_std.png' if not low_corr else 'no_H_std_low_corr.png'\n",
        "biv_covs_b,biv_corrs_b, rf_importances_b, rf_shap_vals_b, nn_shap_vals_b, lr_coefs_b = get_importances(predictors, outcome, feature_names_b, standardize=True)\n",
        "plot_results(biv_corrs_b, rf_importances_b, rf_shap_vals_b, nn_shap_vals_b, lr_coefs_b, feature_names_b, graph_name=gn)"
      ],
      "metadata": {
        "id": "JynSiv7BGBeA",
        "colab": {
          "base_uri": "https://localhost:8080/",
          "height": 762,
          "referenced_widgets": [
            "a37cde393a114b4186624677dd5c2f4a",
            "20538ab5568f493fb1221bb958a6b9de",
            "2bfaba4e81f0474ab2534cc478b15118",
            "63e40c587674460dbf4a8f5fbf2f446d",
            "bd636c6017bd4639b747df14ab614653",
            "7b350c6f7de647b0b300f8fecfe78966",
            "fa1f6d1e567541aebd2a80a8ce56e31a",
            "fd7c0f8350074af2be0066f6779b4f44",
            "a90006cae5ac45819100e7215b2ef401",
            "062c698f48c74cfdaf0fb0b977ac5268",
            "6e36d31a661a4e54b46dc9d02a5a6d1c"
          ]
        },
        "outputId": "7b369d33-a657-41e3-97ce-c0db3d15dab2"
      },
      "execution_count": null,
      "outputs": [
        {
          "output_type": "stream",
          "name": "stdout",
          "text": [
            "------------LR (always unstandardizd)---------------\n",
            "MSE 0.03545160583011038\n",
            "------------RF---------------\n"
          ]
        },
        {
          "output_type": "stream",
          "name": "stderr",
          "text": [
            "/usr/local/lib/python3.10/dist-packages/sklearn/neural_network/_multilayer_perceptron.py:686: ConvergenceWarning: Stochastic Optimizer: Maximum iterations (200) reached and the optimization hasn't converged yet.\n",
            "  warnings.warn(\n",
            "WARNING:shap:Using 120 background data samples could cause slower run times. Consider using shap.sample(data, K) or shap.kmeans(data, K) to summarize the background as K samples.\n"
          ]
        },
        {
          "output_type": "stream",
          "name": "stdout",
          "text": [
            "MSE 0.4590319841965219\n",
            "------------NN---------------\n"
          ]
        },
        {
          "output_type": "display_data",
          "data": {
            "text/plain": [
              "  0%|          | 0/80 [00:00<?, ?it/s]"
            ],
            "application/vnd.jupyter.widget-view+json": {
              "version_major": 2,
              "version_minor": 0,
              "model_id": "a37cde393a114b4186624677dd5c2f4a"
            }
          },
          "metadata": {}
        },
        {
          "output_type": "stream",
          "name": "stdout",
          "text": [
            "MSE 0.1659835298169106\n"
          ]
        },
        {
          "output_type": "display_data",
          "data": {
            "text/plain": [
              "<Figure size 1000x600 with 1 Axes>"
            ],
            "image/png": "[encoded data removed]"
          },
          "metadata": {}
        }
      ]
    },
    {
      "cell_type": "markdown",
      "source": [
        "##Q3-Now let's remove the mediator 'D'. Surely now we will see 'X' linked with 'Y'?"
      ],
      "metadata": {
        "id": "iB8BLK3fNCG2"
      }
    },
    {
      "cell_type": "code",
      "source": [
        "# remove mediator\n",
        "predictors = np.concatenate((C, A, K, X, F, G),1)\n",
        "outcome =  Y[:,0]\n",
        "feature_names_c = ['C', 'A', 'K', 'X', 'F', 'G']\n",
        "\n",
        "# biv_covs,biv_corrs, rf_importances, rf_shap_vals, nn_shap_vals, lr_coefs = get_importances(predictors, outcome, feature_names)\n",
        "# plot_results(biv_corrs, rf_importances, rf_shap_vals, nn_shap_vals, lr_coefs, feature_names, graph_name='no_H_no_D.png')\n",
        "\n",
        "biv_covs_c,biv_corrs_c, rf_importances_c, rf_shap_vals_c, nn_shap_vals_c, lr_coefs_c = get_importances(predictors, outcome, feature_names_c, standardize=True)\n",
        "gn = 'no_H_no_D_std.png' if not low_corr else 'no_H_no_D_std_low_corr.png'\n",
        "plot_results(biv_corrs_c, rf_importances_c, rf_shap_vals_c, nn_shap_vals_c, lr_coefs_c, feature_names_c, graph_name=gn)"
      ],
      "metadata": {
        "colab": {
          "base_uri": "https://localhost:8080/",
          "height": 762,
          "referenced_widgets": [
            "f39240660d6f4997a0710335241bc7ef",
            "95cfc0a77c3a4497a2ae0e5d805589f1",
            "dadc6f7eaf9a4ef9b3c729d8ffdebb5e",
            "af386730a5ae4a578d67cc9a175aa104",
            "a22d52ba6dce46c6938fc186db432169",
            "6456de08b5cc4321931131b6fdc5dd27",
            "65c5cde6f06a4b5ba35c2379ef2b5304",
            "299bddb256d945db8f4e587dbe87e79a",
            "83a498e2b21940e19fdbe6e8fa71b07d",
            "0061885eb5384dc6a0296aa9d9bcfaa8",
            "f7325f91b34e4530949cb2a4b57e873e"
          ]
        },
        "id": "27jj-VpfakHb",
        "outputId": "66ba1dc0-aeef-4d76-8a90-4b467fb684b8"
      },
      "execution_count": null,
      "outputs": [
        {
          "output_type": "stream",
          "name": "stdout",
          "text": [
            "------------LR (always unstandardizd)---------------\n",
            "MSE 0.1150080952109592\n",
            "------------RF---------------\n",
            "MSE 0.4973040230777099\n",
            "------------NN---------------\n"
          ]
        },
        {
          "output_type": "stream",
          "name": "stderr",
          "text": [
            "/usr/local/lib/python3.10/dist-packages/sklearn/neural_network/_multilayer_perceptron.py:686: ConvergenceWarning: Stochastic Optimizer: Maximum iterations (200) reached and the optimization hasn't converged yet.\n",
            "  warnings.warn(\n",
            "WARNING:shap:Using 120 background data samples could cause slower run times. Consider using shap.sample(data, K) or shap.kmeans(data, K) to summarize the background as K samples.\n"
          ]
        },
        {
          "output_type": "display_data",
          "data": {
            "text/plain": [
              "  0%|          | 0/80 [00:00<?, ?it/s]"
            ],
            "application/vnd.jupyter.widget-view+json": {
              "version_major": 2,
              "version_minor": 0,
              "model_id": "f39240660d6f4997a0710335241bc7ef"
            }
          },
          "metadata": {}
        },
        {
          "output_type": "stream",
          "name": "stdout",
          "text": [
            "MSE 0.19549599427237735\n"
          ]
        },
        {
          "output_type": "display_data",
          "data": {
            "text/plain": [
              "<Figure size 1000x600 with 1 Axes>"
            ],
            "image/png": "[encoded data removed]"
          },
          "metadata": {}
        }
      ]
    },
    {
      "cell_type": "markdown",
      "source": [
        "### **Example 2**"
      ],
      "metadata": {
        "id": "HTe3Z42tImD5"
      }
    },
    {
      "cell_type": "markdown",
      "source": [
        "Q4-same with lower degrees of associations"
      ],
      "metadata": {
        "id": "PyRI2zFRGQ1y"
      }
    },
    {
      "cell_type": "code",
      "source": [
        "# #Alternatively, with lower levels of association\n",
        "low_corr = 1\n",
        "C = np.random.randn(N,1)   # exogenous cause of X\n",
        "A = 0.8 * np.random.randn(N,1)  # backdoor adjustment variable (also cause of X)\n",
        "K = 0.2*A + 0.1 * np.random.randn(N,1)  # backdoor adjustment variable (cause of A and Y)\n",
        "X = 0.2*C - 0.4*A + 0.2 * np.random.randn(N,1)  # treatment variable\n",
        "F = 0.6*X + 0.8 * np.random.randn(N,1)  # descendent of treatment variable\n",
        "D = -0.4*X + 0.5 * np.random.randn(N,1)  # mediator between x and y\n",
        "G = 0.2*D + 0.5 * np.random.randn(N,1)  # descendent of mediator\n",
        "Y = 0.4*K - D + 0.2 * np.random.randn(N,1)  # outcome variable\n",
        "H = 0.1*Y + 0.1 * np.random.randn(N,1)  # effect of Y\n",
        "# ###############################################################\n",
        "feature_names = ['C', 'A', 'K', 'X', 'F', 'D', 'G', 'H']"
      ],
      "metadata": {
        "id": "7xfSFRbKInlz"
      },
      "execution_count": null,
      "outputs": []
    },
    {
      "cell_type": "code",
      "source": [
        "predictors = np.concatenate((C, A, K, X, F, D, G, H),1)\n",
        "outcome =  Y[:,0]\n",
        "# biv_covs,biv_corrs, rf_importances, rf_shap_vals, nn_shap_vals, lr_coefs = get_importances(predictors, outcome, feature_names)\n",
        "# plot_results(biv_corrs, rf_importances, rf_shap_vals, nn_shap_vals, lr_coefs, feature_names, graph_name='all_preds.png')\n",
        "\n",
        "biv_covs_a,biv_corrs_a, rf_importances_a, rf_shap_vals_a, nn_shap_vals_a, lr_coefs_a = get_importances(predictors, outcome, feature_names, standardize=True)\n",
        "\n",
        "for i, corr in enumerate(biv_corrs_a):\n",
        "    print(feature_names[i], corr)\n",
        "gn = 'all_preds_std.png' if not low_corr else 'all_preds_std_low_corr.png'\n",
        "plot_results(biv_corrs_a, rf_importances_a, rf_shap_vals_a, nn_shap_vals_a, lr_coefs_a, feature_names, graph_name=gn)"
      ],
      "metadata": {
        "colab": {
          "base_uri": "https://localhost:8080/",
          "height": 852,
          "referenced_widgets": [
            "9010f22d2ed74a789b00b66af730d6cf",
            "af97298c453f41c5a528b2242929b3be",
            "0d90b8ca6475431db39da5e914d4211e",
            "6540ac8a2682491caa2da2a3cf5d798e",
            "4959585fea81416db6a18da3bf2c9efb",
            "4b750456f5bd4923a2dccf80722a0259",
            "7d003a4de64d4026b05008abf6c27e9a",
            "ffeddcb8c39c45e7941c7a20eaa2bc42",
            "225b37c964274cd6a25e11169faf373e",
            "dc676d008cbe408eb3b0302903687835",
            "f7ab1cc5cbe34da2bbbe7266dbeb1823"
          ]
        },
        "id": "qZX1DeLfcdzh",
        "outputId": "6a997c18-c698-4ac0-b299-971356ad881a"
      },
      "execution_count": null,
      "outputs": [
        {
          "output_type": "stream",
          "name": "stdout",
          "text": [
            "------------LR (always unstandardizd)---------------\n",
            "MSE 0.03441554666944054\n",
            "------------RF---------------\n",
            "MSE 0.05140477232662401\n",
            "------------NN---------------\n"
          ]
        },
        {
          "output_type": "stream",
          "name": "stderr",
          "text": [
            "WARNING:shap:Using 120 background data samples could cause slower run times. Consider using shap.sample(data, K) or shap.kmeans(data, K) to summarize the background as K samples.\n"
          ]
        },
        {
          "output_type": "display_data",
          "data": {
            "text/plain": [
              "  0%|          | 0/80 [00:00<?, ?it/s]"
            ],
            "application/vnd.jupyter.widget-view+json": {
              "version_major": 2,
              "version_minor": 0,
              "model_id": "9010f22d2ed74a789b00b66af730d6cf"
            }
          },
          "metadata": {}
        },
        {
          "output_type": "stream",
          "name": "stdout",
          "text": [
            "MSE 0.061620876305428916\n",
            "C 0.08153204169290608\n",
            "A 0.23142106436631468\n",
            "K 0.1388828306305684\n",
            "X 0.29141969874451457\n",
            "F 0.11452673894089714\n",
            "D 0.9236518301693287\n",
            "G 0.2099133915079222\n",
            "H 0.5234285077085562\n"
          ]
        },
        {
          "output_type": "display_data",
          "data": {
            "text/plain": [
              "<Figure size 1000x600 with 1 Axes>"
            ],
            "image/png": "[encoded data removed]"
          },
          "metadata": {}
        }
      ]
    },
    {
      "cell_type": "code",
      "source": [
        "# remove effect of y\n",
        "predictors = np.concatenate((C, A, K, X, F, D, G),1)\n",
        "outcome =  Y[:,0]\n",
        "feature_names_b = ['C', 'A', 'K', 'X', 'F', 'D', 'G']\n",
        "\n",
        "# biv_covs,biv_corrs, rf_importances, rf_shap_vals, nn_shap_vals, lr_coefs = get_importances(predictors, outcome, feature_names)\n",
        "# plot_results(biv_corrs, rf_importances, rf_shap_vals, nn_shap_vals, lr_coefs, feature_names, graph_name='no_H.png')\n",
        "gn = 'no_H_std.png' if not low_corr else 'no_H_std_low_corr.png'\n",
        "biv_covs_b,biv_corrs_b, rf_importances_b, rf_shap_vals_b, nn_shap_vals_b, lr_coefs_b = get_importances(predictors, outcome, feature_names_b, standardize=True)\n",
        "plot_results(biv_corrs_b, rf_importances_b, rf_shap_vals_b, nn_shap_vals_b, lr_coefs_b, feature_names_b, graph_name=gn)"
      ],
      "metadata": {
        "colab": {
          "base_uri": "https://localhost:8080/",
          "height": 706,
          "referenced_widgets": [
            "f994052b513248718cb34672bd365b9d",
            "a1b478f4f9ea4a0fa08747f5a32b1e1d",
            "9048d2b908414eaaa7ceffcaf651fdba",
            "681985092740482d87e56014bc972804",
            "51d6ffd83175406586b98f4ce1c8c930",
            "ca99de80eecd42e0b536f639efab0585",
            "5d02a45e9d4048ea98b04809406b407d",
            "1113dd17587440cdb19dd272b8bf77d1",
            "868561c742b2413ab51b7a18366db9f6",
            "0ee46c35c4f64d0bb34c9340390caac2",
            "79ce48da1f4547c58c1cdec030f1d777"
          ]
        },
        "id": "MKQuS7Yfersg",
        "outputId": "bff1503b-b6e2-4cdf-aaaa-8725e010fe53"
      },
      "execution_count": null,
      "outputs": [
        {
          "output_type": "stream",
          "name": "stdout",
          "text": [
            "------------LR (always unstandardizd)---------------\n",
            "MSE 0.052454287117823316\n",
            "------------RF---------------\n",
            "MSE 0.06732485762275263\n",
            "------------NN---------------\n"
          ]
        },
        {
          "output_type": "stream",
          "name": "stderr",
          "text": [
            "WARNING:shap:Using 120 background data samples could cause slower run times. Consider using shap.sample(data, K) or shap.kmeans(data, K) to summarize the background as K samples.\n"
          ]
        },
        {
          "output_type": "display_data",
          "data": {
            "text/plain": [
              "  0%|          | 0/80 [00:00<?, ?it/s]"
            ],
            "application/vnd.jupyter.widget-view+json": {
              "version_major": 2,
              "version_minor": 0,
              "model_id": "f994052b513248718cb34672bd365b9d"
            }
          },
          "metadata": {}
        },
        {
          "output_type": "stream",
          "name": "stdout",
          "text": [
            "MSE 0.06437929060784046\n"
          ]
        },
        {
          "output_type": "display_data",
          "data": {
            "text/plain": [
              "<Figure size 1000x600 with 1 Axes>"
            ],
            "image/png": "[encoded data removed]"
          },
          "metadata": {}
        }
      ]
    },
    {
      "cell_type": "code",
      "source": [
        "# remove mediator\n",
        "predictors = np.concatenate((C, A, K, X, F, G),1)\n",
        "outcome =  Y[:,0]\n",
        "feature_names_c = ['C', 'A', 'K', 'X', 'F', 'G']\n",
        "\n",
        "# biv_covs,biv_corrs, rf_importances, rf_shap_vals, nn_shap_vals, lr_coefs = get_importances(predictors, outcome, feature_names)\n",
        "# plot_results(biv_corrs, rf_importances, rf_shap_vals, nn_shap_vals, lr_coefs, feature_names, graph_name='no_H_no_D.png')\n",
        "\n",
        "biv_covs_c,biv_corrs_c, rf_importances_c, rf_shap_vals_c, nn_shap_vals_c, lr_coefs_c = get_importances(predictors, outcome, feature_names_c, standardize=True)\n",
        "gn = 'no_H_no_D_std.png' if not low_corr else 'no_H_no_D_std_low_corr.png'\n",
        "plot_results(biv_corrs_c, rf_importances_c, rf_shap_vals_c, nn_shap_vals_c, lr_coefs_c, feature_names_c, graph_name=gn)"
      ],
      "metadata": {
        "colab": {
          "base_uri": "https://localhost:8080/",
          "height": 762,
          "referenced_widgets": [
            "9f1d9b6b364a4c1cb486c5ea5c361ead",
            "2468a908a0e848b187713ab37f2fc6d3",
            "14ad25aea58b4f6c8dd1954f448dca5e",
            "4e96178eb7a7435cae38cb02ec866fba",
            "2e2d07347a5c43e896660a092024624e",
            "9874232849024bb39c389afacde92df6",
            "109778c37fa246caa663023378821240",
            "602763406da6413eaca2ce2c8afc731e",
            "d395f0c35f5747f58c2f21f6be3f3b90",
            "edc9b2b3e8d847b29976be23259444e4",
            "39eeba52b6b0464097e8fc578d3e9816"
          ]
        },
        "id": "_shvecNYfd6I",
        "outputId": "d7543804-3030-4337-c65a-0380153bdb91"
      },
      "execution_count": null,
      "outputs": [
        {
          "output_type": "stream",
          "name": "stdout",
          "text": [
            "------------LR (always unstandardizd)---------------\n",
            "MSE 0.26020203016710663\n",
            "------------RF---------------\n",
            "MSE 0.29838738514374014\n",
            "------------NN---------------\n"
          ]
        },
        {
          "output_type": "stream",
          "name": "stderr",
          "text": [
            "/usr/local/lib/python3.10/dist-packages/sklearn/neural_network/_multilayer_perceptron.py:686: ConvergenceWarning: Stochastic Optimizer: Maximum iterations (200) reached and the optimization hasn't converged yet.\n",
            "  warnings.warn(\n",
            "WARNING:shap:Using 120 background data samples could cause slower run times. Consider using shap.sample(data, K) or shap.kmeans(data, K) to summarize the background as K samples.\n"
          ]
        },
        {
          "output_type": "display_data",
          "data": {
            "text/plain": [
              "  0%|          | 0/80 [00:00<?, ?it/s]"
            ],
            "application/vnd.jupyter.widget-view+json": {
              "version_major": 2,
              "version_minor": 0,
              "model_id": "9f1d9b6b364a4c1cb486c5ea5c361ead"
            }
          },
          "metadata": {}
        },
        {
          "output_type": "stream",
          "name": "stdout",
          "text": [
            "MSE 0.29864694863011093\n"
          ]
        },
        {
          "output_type": "display_data",
          "data": {
            "text/plain": [
              "<Figure size 1000x600 with 1 Axes>"
            ],
            "image/png": "[encoded data removed]"
          },
          "metadata": {}
        }
      ]
    },
    {
      "cell_type": "markdown",
      "source": [
        "### **Estimation of the causal effect using the library dowhy**"
      ],
      "metadata": {
        "id": "jlIBPovbuTuL"
      }
    },
    {
      "cell_type": "code",
      "source": [
        "example1_array=np.concatenate((C, A, K, X, F, D, G, Y,H),axis=1)\n",
        "df = pd.DataFrame(data = example1_array, columns=['C', 'A', 'K', 'X', 'F', 'D', 'G', 'Y','H'])"
      ],
      "metadata": {
        "id": "syFgu255utKP"
      },
      "execution_count": null,
      "outputs": []
    },
    {
      "cell_type": "code",
      "source": [
        "causal_graph = \"\"\"digraph {\n",
        "F;\n",
        "G;\n",
        "H;\n",
        "A->K;\n",
        "A->X;\n",
        "C->X;\n",
        "X->F;\n",
        "X->D;\n",
        "K->Y;\n",
        "D->Y;\n",
        "D->G;\n",
        "Y->H;\n",
        "}\"\"\""
      ],
      "metadata": {
        "id": "noDm0DRnvaxs"
      },
      "execution_count": null,
      "outputs": []
    },
    {
      "cell_type": "markdown",
      "source": [
        "Q5-\n",
        "Use the do why library to estimate $\\mathbb{E}[Y|do(X=1)]-\\mathbb{E}[Y|do(X=0)]$"
      ],
      "metadata": {
        "id": "CVBsOCWZGnOk"
      }
    },
    {
      "cell_type": "code",
      "source": [
        "model=CausalModel(\n",
        "        data = df,\n",
        "        graph=causal_graph.replace(\"\\n\", \" \"),\n",
        "        treatment=\"X\",\n",
        "        outcome=\"Y\"\n",
        "        )"
      ],
      "metadata": {
        "id": "q_0xTf_KgPdL"
      },
      "execution_count": null,
      "outputs": []
    },
    {
      "cell_type": "code",
      "source": [
        "identified_estimand = model.identify_effect(proceed_when_unidentifiable=True)"
      ],
      "metadata": {
        "id": "PNPmN8gfgVEI"
      },
      "execution_count": null,
      "outputs": []
    },
    {
      "cell_type": "code",
      "source": [
        "causal_estimate_reg = model.estimate_effect(identified_estimand,\n",
        "        method_name=\"backdoor.linear_regression\",\n",
        "        test_significance=True)\n",
        "print(causal_estimate_reg)"
      ],
      "metadata": {
        "colab": {
          "base_uri": "https://localhost:8080/"
        },
        "id": "atfH6t0bgeg4",
        "outputId": "cc49dacd-2146-4640-eaac-24b95b09fd34"
      },
      "execution_count": null,
      "outputs": [
        {
          "output_type": "stream",
          "name": "stdout",
          "text": [
            "*** Causal Estimate ***\n",
            "\n",
            "## Identified estimand\n",
            "Estimand type: EstimandType.NONPARAMETRIC_ATE\n",
            "\n",
            "### Estimand : 1\n",
            "Estimand name: backdoor\n",
            "Estimand expression:\n",
            " d          \n",
            "────(E[Y|A])\n",
            "d[X]        \n",
            "Estimand assumption 1, Unconfoundedness: If U→{X} and U→Y then P(Y|X,A,U) = P(Y|X,A)\n",
            "\n",
            "## Realized estimand\n",
            "b: Y~X+A+X*K\n",
            "Target units: \n",
            "\n",
            "## Estimate\n",
            "Mean value: 0.5079688529721194\n",
            "p-value: [0.00057754]\n",
            "### Conditional Estimates\n",
            "__categorical__K\n",
            "(-0.44, -0.143]     0.481307\n",
            "(-0.143, -0.029]    0.498220\n",
            "(-0.029, 0.0428]    0.507030\n",
            "(0.0428, 0.167]     0.517383\n",
            "(0.167, 0.485]      0.535904\n",
            "dtype: float64\n"
          ]
        }
      ]
    }
  ]
}